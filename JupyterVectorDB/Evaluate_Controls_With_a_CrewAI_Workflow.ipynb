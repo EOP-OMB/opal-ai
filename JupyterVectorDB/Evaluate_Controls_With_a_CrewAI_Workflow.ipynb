{
 "cells": [
  {
   "cell_type": "markdown",
   "metadata": {},
   "source": [
    "# CrewAI sequential workflow of control analysis\n",
    "\n",
    "We were able to effectively use a chat session (with context) to analyze a PDF and match it against a\n",
    "control from the NIST 800-53 standard (specifically CA-5). In this notebook, we explore turning\n",
    "that chat session into a CrewAI Workflow.\n",
    "\n",
    "In this particular experiment, we will pull in a specific EPA PDF, convert it to text (using\n",
    "Python's PyMuPDF library) and use a single Agent with a sequential workflow modeled after the chat session.\n",
    "\n",
    "### Install Notes\n",
    "\n",
    "To run this you will need:\n",
    "\n",
    "```pip install PyMuPDF crewai```"
   ]
  },
  {
   "cell_type": "code",
   "execution_count": 1,
   "metadata": {},
   "outputs": [],
   "source": [
    "import fitz\n",
    "import textwrap\n",
    "from crewai import Agent, Task, Crew, Process"
   ]
  },
  {
   "cell_type": "markdown",
   "metadata": {},
   "source": [
    "## Import an EPA policy document from PDF\n",
    "\n",
    "Here we'll import the EPA policy document that specifically deals with \"CA\" controls. We'll convert it from PDF into text.\n",
    "\n",
    "(Note, the original code cleaned up bullet points and headings of the document, but we can trust that we'll have that luxury with other policy libraries. So let's leave it as is and see how well we handle the result."
   ]
  },
  {
   "cell_type": "code",
   "execution_count": 2,
   "metadata": {},
   "outputs": [],
   "source": [
    "# The document we're grabbing\n",
    "policy_doc = \"../resources/EPA_Policy_Example/information_security_assessment_authorization_and_monitoring_procedure.pdf\"\n",
    "\n",
    "# The following opens the doc in fitz, iterates the pages, and combines the text of\n",
    "# each page (separating the pages with a new line)\n",
    "policy_text = \"\\n\".join([page.get_text() for page in fitz.open(policy_doc)])\n",
    "\n",
    "# print(policy_text)"
   ]
  },
  {
   "cell_type": "code",
   "execution_count": 3,
   "metadata": {},
   "outputs": [],
   "source": [
    "# Define the Control we are Assessing\n",
    "\n",
    "Control = textwrap.dedent(\"\"\"\n",
    "  CA-5 PLAN OF ACTION AND MILESTONES Control: \n",
    "    a. Develop a plan of action and milestones for the system to document the planned remediation \n",
    "       actions of the organization to correct weaknesses or deficiencies noted during the assessment \n",
    "       of the controls and to reduce or eliminate known vulnerabilities in the system; and \n",
    "    b. Update existing plan of action and milestones [Assignment: organization-defined frequency] \n",
    "       based on the findings from control assessments, independent audits or reviews, and continuous\n",
    "       monitoring activities.\n",
    "\"\"\")\n",
    "\n",
    "# Define the Discussion Related to the Control\n",
    "\n",
    "Discussion = textwrap.dedent(\"\"\"\n",
    "  Discussion: Plans of action and milestones are useful for any type of organization to track planned\n",
    "  remedial actions. Plans of action and milestones are required in authorization packages and subject\n",
    "  to federal reporting requirements established by OMB. Please find evidence (if present) from the IT\n",
    "  security and policy documents that address this control.\n",
    "\"\"\")"
   ]
  },
  {
   "cell_type": "code",
   "execution_count": 4,
   "metadata": {},
   "outputs": [],
   "source": [
    "# Create the Investigator agent\n",
    "Investigator = Agent(\n",
    "    role='Investigator',\n",
    "    goal=textwrap.dedent(\"\"\"\n",
    "      We are conducting an examination of the IT process and policy documents of a system for adherence\n",
    "      to NIST SP 800-53 security controls.\n",
    "      \n",
    "      We need to do two key things: \n",
    "        1. Gather evidence (if available) of the implementation of a security control. \n",
    "        2. Identify the values for properties (variables) in the control from the evidence.\n",
    "           The following are segments of IT process and policy documents found from search\n",
    "           results based upon the control we are examining.\n",
    "    \"\"\"),\n",
    "    verbose=True,\n",
    "    memory=True,\n",
    "    backstory=textwrap.dedent(\"\"\"\n",
    "      You are a seasoned Investigator tasked with determining if the provided NIST 800-53 security \n",
    "      controls are present in the policy documentation. You are skilled at understanding and analyzing\n",
    "      software policy. If something is unclear or if the evidence is \"weak\", you believe it is your duty\n",
    "      to point out inconsistencies or incomplete policies.\n",
    "    \"\"\"),\n",
    "    tools=[]\n",
    ")"
   ]
  },
  {
   "cell_type": "code",
   "execution_count": 5,
   "metadata": {},
   "outputs": [],
   "source": [
    "#\n",
    "# Task for the Investigator to search the policy documents for evidence of the implementation\n",
    "# of a particular control\n",
    "#\n",
    "Gather_Evidence = Task(\n",
    "    description=textwrap.dedent(f\"\"\"\n",
    "      The following are segments of IT process and policy documents found from search results based upon\n",
    "      the control we are examining:\n",
    "      \n",
    "      ---\n",
    "      \n",
    "      {policy_text}\n",
    "      \n",
    "      ---\n",
    "      \n",
    "      The control we are assessing is: \n",
    "      \n",
    "      {Control}\n",
    "      \n",
    "      Please find evidence (if present) from the IT security and policy documents that address\n",
    "      this control. For the evidence you found, please provide:\n",
    "        * The document name\n",
    "        * A section number or identifier (if available)\n",
    "        * A quote of the evidence from the document.\n",
    "    \"\"\"),\n",
    "    expected_output=\"A list of evidence.\",\n",
    "    agent=Investigator,\n",
    ")"
   ]
  },
  {
   "cell_type": "code",
   "execution_count": 6,
   "metadata": {},
   "outputs": [],
   "source": [
    "#\n",
    "# Task for the Investigator to use populate poperties from the control that are fulfilled by the\n",
    "# policy evidence.\n",
    "#\n",
    "Evaluate_Control = Task(\n",
    "    description=textwrap.dedent(f\"\"\"\n",
    "      Here is the Control again:\n",
    "      \n",
    "      {Control}\n",
    "\n",
    "      The bracketed sections (within [ and ] in the control) represent properties that\n",
    "      should be specified in the evidence if the control is fully satisfied. For each\n",
    "      property in the control please:\n",
    "        1. List the property from the control (using the name given by Assignment).\n",
    "        2. A quote from the supporting evidence that provides the value of that property (if available).\n",
    "        3. The value of the property extracted from the evidence (if available)\n",
    "    \n",
    "      Then please tell us yes or no if you feel that the control is addressed by the policy documents.\n",
    "    \"\"\"),\n",
    "    expected_output='A list of properties, if the control is satisfied, and why.',\n",
    "    agent=Investigator,\n",
    ")"
   ]
  },
  {
   "cell_type": "code",
   "execution_count": 7,
   "metadata": {},
   "outputs": [],
   "source": [
    "# \n",
    "# Task for the Investigator to combine the output of the previous tasks and format it into an\n",
    "# XML report\n",
    "#\n",
    "Format_Evidence = Task(\n",
    "    description=textwrap.dedent(f\"\"\"\n",
    "      Please put the results of your examination into the following XML format:\n",
    "      \n",
    "      <CONTROL>\n",
    "        <CONTROL_ID></CONTROL_ID>\n",
    "        <CONTROL_TITLE></CONTROL_TITLE>\n",
    "        <EVIDENCE>\n",
    "          <DOC_TITLE></DOC_TITLE>\n",
    "          <DOC_SECTION></DOC_SECTION>\n",
    "          <DOC_QUOTE></DOC_QUOTE>\n",
    "        </EVIDENCE>\n",
    "        <PARAMETER>\n",
    "          <NAME></NAME>\n",
    "          <VALUE></VALUE>\n",
    "        </PARAMETER>\n",
    "        <CONTROL_IS_SATISFIED></CONTROL_IS_SATISFIED>\n",
    "        <CONTROL_SATISFACTION_RATIONAL></CONTROL_SATISFACTION_RATIONAL>\n",
    "      </CONTROL>\n",
    "\n",
    "      Please output the XML by itself (do not provide any surrounding text nor code block quotes).\n",
    "    \"\"\"),\n",
    "    expected_output='A properly formatted XML file with the evaluation results.',\n",
    "    context=[Gather_Evidence, Evaluate_Control],\n",
    "    agent=Investigator,\n",
    ")"
   ]
  },
  {
   "cell_type": "code",
   "execution_count": 8,
   "metadata": {},
   "outputs": [
    {
     "name": "stdout",
     "output_type": "stream",
     "text": [
      "\n",
      "\n",
      "\u001b[1m> Entering new CrewAgentExecutor chain...\u001b[0m\n",
      "\u001b[32;1m\u001b[1;3mI now can give a great answer.\n",
      "\n",
      "Final Answer:\n",
      "\n",
      "* Document Name: Information Security – Assessment, Authorization and Monitoring (CA) Procedure Directive No: CIO 2150-P-04.3\n",
      "* Section: CA-5 – Plan of Action and Milestones\n",
      "* Quote: \n",
      "  ```\n",
      "  For All Systems:\n",
      "  1) Develop a plan of action and milestones for the system to document the planned remediation actions of the organization to correct weaknesses or deficiencies noted during the assessment of the controls and to reduce or eliminate known vulnerabilities in the system; and  \n",
      "  2) Update existing plan of action and milestones monthly based on the findings from control assessments, independent audits or reviews, and continuous monitoring activities.\n",
      "  ```\u001b[0m\n",
      "\n",
      "\u001b[1m> Finished chain.\u001b[0m\n",
      "\n",
      "\n",
      "\u001b[1m> Entering new CrewAgentExecutor chain...\u001b[0m\n",
      "\u001b[32;1m\u001b[1;3mI now can give a great answer.\n",
      "\n",
      "Final Answer:\n",
      "\n",
      "- Property: [Assignment: organization-defined frequency]\n",
      "- Quote: \"Update existing plan of action and milestones monthly based on the findings from control assessments, independent audits or reviews, and continuous monitoring activities.\"\n",
      "- Value: Monthly\n",
      "\n",
      "Yes, the control CA-5 is addressed by the policy documents. The provided evidence outlines the development of a plan of action and milestones to document remediation actions and specifies that the plan should be updated monthly based on findings from various assessments and monitoring activities.\u001b[0m\n",
      "\n",
      "\u001b[1m> Finished chain.\u001b[0m\n",
      "\n",
      "\n",
      "\u001b[1m> Entering new CrewAgentExecutor chain...\u001b[0m\n",
      "\u001b[32;1m\u001b[1;3mI now can give a great answer.\n",
      "\n",
      "Final Answer:\n",
      "<CONTROL>\n",
      "  <CONTROL_ID>CA-5</CONTROL_ID>\n",
      "  <CONTROL_TITLE>Plan of Action and Milestones</CONTROL_TITLE>\n",
      "  <EVIDENCE>\n",
      "    <DOC_TITLE>Information Security – Assessment, Authorization and Monitoring (CA) Procedure Directive No: CIO 2150-P-04.3</DOC_TITLE>\n",
      "    <DOC_SECTION>CA-5 – Plan of Action and Milestones</DOC_SECTION>\n",
      "    <DOC_QUOTE>\n",
      "      For All Systems:\n",
      "      1) Develop a plan of action and milestones for the system to document the planned remediation actions of the organization to correct weaknesses or deficiencies noted during the assessment of the controls and to reduce or eliminate known vulnerabilities in the system; and  \n",
      "      2) Update existing plan of action and milestones monthly based on the findings from control assessments, independent audits or reviews, and continuous monitoring activities.\n",
      "    </DOC_QUOTE>\n",
      "  </EVIDENCE>\n",
      "  <PARAMETER>\n",
      "    <NAME>Assignment: organization-defined frequency</NAME>\n",
      "    <VALUE>Monthly</VALUE>\n",
      "  </PARAMETER>\n",
      "  <CONTROL_IS_SATISFIED>Yes</CONTROL_IS_SATISFIED>\n",
      "  <CONTROL_SATISFACTION_RATIONAL>\n",
      "    The control CA-5 is addressed by the policy documents. The provided evidence outlines the development of a plan of action and milestones to document remediation actions and specifies that the plan should be updated monthly based on findings from various assessments and monitoring activities.\n",
      "  </CONTROL_SATISFACTION_RATIONAL>\n",
      "</CONTROL>\u001b[0m\n",
      "\n",
      "\u001b[1m> Finished chain.\u001b[0m\n",
      "<CONTROL>\n",
      "  <CONTROL_ID>CA-5</CONTROL_ID>\n",
      "  <CONTROL_TITLE>Plan of Action and Milestones</CONTROL_TITLE>\n",
      "  <EVIDENCE>\n",
      "    <DOC_TITLE>Information Security – Assessment, Authorization and Monitoring (CA) Procedure Directive No: CIO 2150-P-04.3</DOC_TITLE>\n",
      "    <DOC_SECTION>CA-5 – Plan of Action and Milestones</DOC_SECTION>\n",
      "    <DOC_QUOTE>\n",
      "      For All Systems:\n",
      "      1) Develop a plan of action and milestones for the system to document the planned remediation actions of the organization to correct weaknesses or deficiencies noted during the assessment of the controls and to reduce or eliminate known vulnerabilities in the system; and  \n",
      "      2) Update existing plan of action and milestones monthly based on the findings from control assessments, independent audits or reviews, and continuous monitoring activities.\n",
      "    </DOC_QUOTE>\n",
      "  </EVIDENCE>\n",
      "  <PARAMETER>\n",
      "    <NAME>Assignment: organization-defined frequency</NAME>\n",
      "    <VALUE>Monthly</VALUE>\n",
      "  </PARAMETER>\n",
      "  <CONTROL_IS_SATISFIED>Yes</CONTROL_IS_SATISFIED>\n",
      "  <CONTROL_SATISFACTION_RATIONAL>\n",
      "    The control CA-5 is addressed by the policy documents. The provided evidence outlines the development of a plan of action and milestones to document remediation actions and specifies that the plan should be updated monthly based on findings from various assessments and monitoring activities.\n",
      "  </CONTROL_SATISFACTION_RATIONAL>\n",
      "</CONTROL>\n"
     ]
    }
   ],
   "source": [
    "# Forming the crew and defining the process\n",
    "crew = Crew(\n",
    "    agents=[Investigator],\n",
    "    tasks=[Gather_Evidence, Evaluate_Control, Format_Evidence],\n",
    "    process=Process.sequential\n",
    ")\n",
    "\n",
    "# Kick off the crew\n",
    "result = crew.kickoff()\n",
    "\n",
    "# Print the result\n",
    "print(result)"
   ]
  },
  {
   "cell_type": "code",
   "execution_count": 9,
   "metadata": {},
   "outputs": [
    {
     "name": "stdout",
     "output_type": "stream",
     "text": [
      "* Document Name: Information Security – Assessment, Authorization and Monitoring (CA) Procedure Directive No: CIO 2150-P-04.3\n",
      "* Section: CA-5 – Plan of Action and Milestones\n",
      "* Quote: \n",
      "  ```\n",
      "  For All Systems:\n",
      "  1) Develop a plan of action and milestones for the system to document the planned remediation actions of the organization to correct weaknesses or deficiencies noted during the assessment of the controls and to reduce or eliminate known vulnerabilities in the system; and  \n",
      "  2) Update existing plan of action and milestones monthly based on the findings from control assessments, independent audits or reviews, and continuous monitoring activities.\n",
      "  ```\n"
     ]
    }
   ],
   "source": [
    "print(Gather_Evidence.output)"
   ]
  },
  {
   "cell_type": "code",
   "execution_count": 10,
   "metadata": {},
   "outputs": [
    {
     "name": "stdout",
     "output_type": "stream",
     "text": [
      "- Property: [Assignment: organization-defined frequency]\n",
      "- Quote: \"Update existing plan of action and milestones monthly based on the findings from control assessments, independent audits or reviews, and continuous monitoring activities.\"\n",
      "- Value: Monthly\n",
      "\n",
      "Yes, the control CA-5 is addressed by the policy documents. The provided evidence outlines the development of a plan of action and milestones to document remediation actions and specifies that the plan should be updated monthly based on findings from various assessments and monitoring activities.\n"
     ]
    }
   ],
   "source": [
    "print(Evaluate_Control.output)"
   ]
  },
  {
   "cell_type": "code",
   "execution_count": 11,
   "metadata": {},
   "outputs": [
    {
     "name": "stdout",
     "output_type": "stream",
     "text": [
      "<CONTROL>\n",
      "  <CONTROL_ID>CA-5</CONTROL_ID>\n",
      "  <CONTROL_TITLE>Plan of Action and Milestones</CONTROL_TITLE>\n",
      "  <EVIDENCE>\n",
      "    <DOC_TITLE>Information Security – Assessment, Authorization and Monitoring (CA) Procedure Directive No: CIO 2150-P-04.3</DOC_TITLE>\n",
      "    <DOC_SECTION>CA-5 – Plan of Action and Milestones</DOC_SECTION>\n",
      "    <DOC_QUOTE>\n",
      "      For All Systems:\n",
      "      1) Develop a plan of action and milestones for the system to document the planned remediation actions of the organization to correct weaknesses or deficiencies noted during the assessment of the controls and to reduce or eliminate known vulnerabilities in the system; and  \n",
      "      2) Update existing plan of action and milestones monthly based on the findings from control assessments, independent audits or reviews, and continuous monitoring activities.\n",
      "    </DOC_QUOTE>\n",
      "  </EVIDENCE>\n",
      "  <PARAMETER>\n",
      "    <NAME>Assignment: organization-defined frequency</NAME>\n",
      "    <VALUE>Monthly</VALUE>\n",
      "  </PARAMETER>\n",
      "  <CONTROL_IS_SATISFIED>Yes</CONTROL_IS_SATISFIED>\n",
      "  <CONTROL_SATISFACTION_RATIONAL>\n",
      "    The control CA-5 is addressed by the policy documents. The provided evidence outlines the development of a plan of action and milestones to document remediation actions and specifies that the plan should be updated monthly based on findings from various assessments and monitoring activities.\n",
      "  </CONTROL_SATISFACTION_RATIONAL>\n",
      "</CONTROL>\n"
     ]
    }
   ],
   "source": [
    "print(result)"
   ]
  }
 ],
 "metadata": {
  "kernelspec": {
   "display_name": "Python 3 (ipykernel)",
   "language": "python",
   "name": "python3"
  },
  "language_info": {
   "codemirror_mode": {
    "name": "ipython",
    "version": 3
   },
   "file_extension": ".py",
   "mimetype": "text/x-python",
   "name": "python",
   "nbconvert_exporter": "python",
   "pygments_lexer": "ipython3",
   "version": "3.12.4"
  }
 },
 "nbformat": 4,
 "nbformat_minor": 4
}

{
 "cells": [
  {
   "cell_type": "markdown",
   "metadata": {
    "jp-MarkdownHeadingCollapsed": true
   },
   "source": [
    "# Install required packages\n",
    "\n",
    "### Install Notes\n",
    "\n",
    "To run this you will need:\n",
    "- pip install openai\n",
    "- pip install PyMuPDF\n",
    "- pip install vectordb\n",
    "\n",
    "Note that in order for vectordb to install you must have the Microsoft Build Tools installed. You can do so for free at https://visualstudio.microsoft.com/visual-cpp-build-tools/. In the installer select the C++ build tools in the Workloads section. In the right pane, under \"Optional\", select the following:\n",
    "- MSVC v143 - VS 2022 C++ x64/x86 build tools (or Latest Version) <br>\n",
    "- Windows 11 SDK (or latest version for your OS)"
   ]
  },
  {
   "cell_type": "markdown",
   "metadata": {},
   "source": [
    "# Import required packages\n"
   ]
  },
  {
   "cell_type": "code",
   "execution_count": 1,
   "metadata": {},
   "outputs": [],
   "source": [
    "import sys\n",
    "import os \n",
    "import openai\n",
    "import fitz\n",
    "from docarray import BaseDoc\n",
    "from docarray.typing import NdArray\n",
    "from typing import Dict\n",
    "from docarray import DocList\n",
    "import numpy as np\n",
    "from vectordb import HNSWVectorDB"
   ]
  },
  {
   "cell_type": "markdown",
   "metadata": {},
   "source": [
    "# Other Housekeeping"
   ]
  },
  {
   "cell_type": "markdown",
   "metadata": {},
   "source": [
    "### Define PolicyDoc class and Vector Database\n",
    "\n",
    "Here we define a new class, PolicyDoc that will be used to create new vector databases and query against existing databases"
   ]
  },
  {
   "cell_type": "code",
   "execution_count": 2,
   "metadata": {},
   "outputs": [],
   "source": [
    "class PolicyDoc(BaseDoc):\n",
    "  text: str = ''\n",
    "  embedding: NdArray[1536]\n",
    "  metadata: Dict[str, str] = {}"
   ]
  },
  {
   "cell_type": "markdown",
   "metadata": {},
   "source": [
    "The kernal below defines the vector database. If it already exists in the current directory it will connect to it. If this is a new vector database you will need to populate it using the rest of the code in this notebook!"
   ]
  },
  {
   "cell_type": "code",
   "execution_count": 3,
   "metadata": {},
   "outputs": [],
   "source": [
    "index_name = \"./epa_policy_vdb\"  # In vectordb the database is in a local folder\n",
    "db = HNSWVectorDB[PolicyDoc](workspace=index_name, space='cosine')"
   ]
  },
  {
   "cell_type": "markdown",
   "metadata": {},
   "source": [
    "### Set OpenAI API Key\n"
   ]
  },
  {
   "cell_type": "code",
   "execution_count": 4,
   "metadata": {},
   "outputs": [],
   "source": [
    "openai.api_key = os.getenv(\"OPENAI_API_KEY\")\n",
    "# print(openai.api_key)"
   ]
  },
  {
   "cell_type": "markdown",
   "metadata": {},
   "source": [
    "### Set repository path\n",
    "This is where your policy documents are stored\n"
   ]
  },
  {
   "cell_type": "code",
   "execution_count": 5,
   "metadata": {},
   "outputs": [],
   "source": [
    "repo_path = '../resources/EPA_Policy_Example/'"
   ]
  },
  {
   "cell_type": "markdown",
   "metadata": {},
   "source": [
    "# Function to Segment Policy Documents\n",
    "This function splits a document into segments. OpenAI is called and prompted to split the document logically into sections and subsections, ensuring to mark where each of the sections begins and ends\n"
   ]
  },
  {
   "cell_type": "code",
   "execution_count": 6,
   "metadata": {},
   "outputs": [],
   "source": [
    "def split_document_into_segments(doc_text):\n",
    "    # Here we tell OpenAI to segment the document into logical sections\n",
    "    prompt = (\n",
    "        \"Identify and split the following document into logical sections and subsections. \"\n",
    "        \"Provide each section or subsection in the form of text segments, and be sure to \"\n",
    "        \"mark where each section begins and ends:\\n\\n\"\n",
    "        f\"{doc_text}\\n\\n\"\n",
    "        \"Return the document split logically into segments based on its content.\"\n",
    "    )\n",
    "    \n",
    "    # Here we dall the OpenAI API to actually analyze and split the document\n",
    "    response = openai.chat.completions.create(\n",
    "        model=\"gpt-4o-mini\",  # Mini is used for testing, however currently 4o is more accurage\n",
    "        messages=[{\"role\": \"system\", \"content\": \"You are an expert document segmenter.\"},\n",
    "                  {\"role\": \"user\", \"content\": prompt}],\n",
    "        max_tokens=4000,\n",
    "        temperature=0\n",
    "    )\n",
    "    \n",
    "    # Extract the response from the LLM\n",
    "    segmented_text = response.choices[0].message.content\n",
    "\n",
    "    # Split the response by sections based on markers or logical breaks (assumed returned by GPT)\n",
    "    segments = segmented_text.split(\"\\n\\n---\\n\\n\")\n",
    "    \n",
    "    # Print each segment with a clear label for debugging/verification\n",
    "    # for i, segment in enumerate(segments, 1):\n",
    "     #   print(f\"Segment {i}:\\n{'-' * 20}\\n{segment}\\n{'-' * 20}\\n\")\n",
    "    \n",
    "    return segments"
   ]
  },
  {
   "cell_type": "markdown",
   "metadata": {},
   "source": [
    "# Function to Create Embeddings for each Segment\n",
    "This function takes in segments of text and calls OpenAI to provide vector embeddings"
   ]
  },
  {
   "cell_type": "code",
   "execution_count": 7,
   "metadata": {},
   "outputs": [],
   "source": [
    "def generate_embeddings(segments, embed_model=\"text-embedding-ada-002\"):\n",
    "    embeddings = []  # Initialize an empty list to store the embeddings\n",
    "    client = openai.OpenAI()\n",
    "    # Loop through each segment, embed it, and store the result in the embeddings list\n",
    "    for segment in segments:\n",
    "        response = client.embeddings.create(input=segment, model=embed_model)\n",
    "        embeddings.append(response.data[0].embedding)  # Extract the actual embedding\n",
    "\n",
    "    return embeddings"
   ]
  },
  {
   "cell_type": "markdown",
   "metadata": {},
   "source": [
    "# Create Policy Document Database\n",
    "This will loop through the repository specified above and search for .pdf or .txt files. Each time it finds a .pdf or .txt file it will segment the document into sections, embed each of those sections, and then populate the vector database defined earlier with these embedded segments. The database stores the embeddings, the filepath, the actual text that was embedded, and an ID."
   ]
  },
  {
   "cell_type": "code",
   "execution_count": null,
   "metadata": {},
   "outputs": [],
   "source": [
    "# Loop through repo and search for all .pdf or .txt files\n",
    "\n",
    "for filename in os.listdir(repo_path):\n",
    "    file_path = os.path.join(repo_path, filename)\n",
    "    print(\"Processing \" + file_path)\n",
    "    \n",
    "    # Open if .pdf and extract its text\n",
    "    if filename.endswith(\".pdf\"):\n",
    "        policy_text = \"\\n\".join([page.get_text() for page in fitz.open(file_path)])\n",
    "        \n",
    "    # Open if .txt and extract its txt\n",
    "    elif filename.endswith(\".txt\"): \n",
    "        with open(file_path, 'r', encoding='utf-8') as file:\n",
    "            policy_text = file.read()\n",
    "\n",
    "    # ignore non .pdf or .txt files and continue loop\n",
    "    else:\n",
    "        continue\n",
    "        \n",
    "    # Segment the document text, then embed the segments\n",
    "    segments = split_document_into_segments(policy_text)\n",
    "    embeddings = generate_embeddings(segments)\n",
    "\n",
    "   # Creates a PolicyDoc file which associates embeddings and segments with the doc name and text\n",
    "    if len(segments) > 0:\n",
    "        doc_list = [\n",
    "            PolicyDoc(text=file_path+str(i), embedding=embeddings[i], metadata={'document':file_path, 'text':segments[i]})\n",
    "            for i in range(len(segments))\n",
    "        ]\n",
    "        \n",
    "        # Upsert the document into the vector database\n",
    "        db.index(inputs=DocList[PolicyDoc](doc_list))"
   ]
  },
  {
   "cell_type": "markdown",
   "metadata": {},
   "source": [
    "# Test Index\n"
   ]
  },
  {
   "cell_type": "code",
   "execution_count": 10,
   "metadata": {},
   "outputs": [
    {
     "data": {
      "text/html": [
       "<pre style=\"white-space:pre;overflow-x:auto;line-height:normal;font-family:Menlo,'DejaVu Sans Mono',consolas,'Courier New',monospace\"></pre>\n"
      ],
      "text/plain": []
     },
     "metadata": {},
     "output_type": "display_data"
    },
    {
     "name": "stdout",
     "output_type": "stream",
     "text": [
      "\u001b[1;35mPolicyDoc\u001b[0m\u001b[1m(\u001b[0m\n",
      "    \u001b[33mid\u001b[0m=\u001b[32m'5e14f4728f87aacddb68a3819d943b39'\u001b[0m,\n",
      "    \u001b[33mtext\u001b[0m=\u001b[32m'../resources/EPA_Policy_Example/information_security_assessment_authorization_and_monitoring_procedure.pd\u001b[0m\n",
      "\u001b[32mf7'\u001b[0m,\n",
      "    \u001b[33membedding\u001b[0m=\u001b[1;35mNdArray\u001b[0m\u001b[1m(\u001b[0m\u001b[1m[\u001b[0m \u001b[1;36m0.00926604\u001b[0m, \u001b[1;36m-0.00278223\u001b[0m,  \u001b[1;36m0.0020672\u001b[0m , \u001b[33m...\u001b[0m,  \u001b[1;36m0.00164908\u001b[0m,\n",
      "          \u001b[1;36m0.00739621\u001b[0m, \u001b[1;36m-0.04013897\u001b[0m\u001b[1m]\u001b[0m\u001b[1m)\u001b[0m,\n",
      "    \u001b[33mmetadata\u001b[0m=\u001b[1m{\u001b[0m\n",
      "        \u001b[32m'text'\u001b[0m: \u001b[32m'### 6. PROCEDURE  \\nSIO, ISO and EPA SO or their official designees for EPA-operated systems; and \u001b[0m\n",
      "\u001b[32mSM, for systems operated on behalf of the EPA and to the extent made applicable to their management of the system \u001b[0m\n",
      "\u001b[32mthrough a contract or other appropriate mechanism, are responsible for implementing the controls in this procedure.\u001b[0m\n",
      "\u001b[32mEPA is adopting this procedure agency-wide and expects these officials to develop a plan with timelines for \u001b[0m\n",
      "\u001b[32madoption for their system\u001b[0m\u001b[32m(\u001b[0m\u001b[32ms\u001b[0m\u001b[32m)\u001b[0m\u001b[32m. EPA employees, contractors and all other users of EPA information and information \u001b[0m\n",
      "\u001b[32msystems that support the operations and assets of the EPA should be aware of the content of this procedure and \u001b[0m\n",
      "\u001b[32mshould follow the directions provided by SIO, ISO and EPA SO or their official designees and SM for the systems \u001b[0m\n",
      "\u001b[32mthat they oversee.  \\nThe \"CA\" designator \u001b[0m\u001b[32m(\u001b[0m\u001b[32me.g., CA-2, CA-3\u001b[0m\u001b[32m)\u001b[0m\u001b[32m identified for each procedure below corresponds to the\u001b[0m\n",
      "\u001b[32mNIST- identifier for the Assessment Authorization and Monitoring control family, as identified in NIST SP 800-53, \u001b[0m\n",
      "\u001b[32mRevision 5, Security and Privacy Controls for Federal Information Systems and Organizations.  \\nNIST defines the \u001b[0m\n",
      "\u001b[32mapplicable CA security and privacy baseline controls in NIST 800-53B, Control Baselines for Information Systems and\u001b[0m\n",
      "\u001b[32mOrganizations. The applicable security baseline for each impact level \u001b[0m\u001b[32m(\u001b[0m\u001b[32mLow, Moderate, High or For All Systems\u001b[0m\u001b[32m)\u001b[0m\u001b[32m as \u001b[0m\n",
      "\u001b[32mwell as the Privacy Control Baseline are identified below the control name.  \\n\\n#### CA-2 – Control Assessments  \u001b[0m\n",
      "\u001b[32m\\nFor All Systems:  \\n1\u001b[0m\u001b[32m)\u001b[0m\u001b[32m Select the appropriate assessor or assessment team for the type of assessment to be \u001b[0m\n",
      "\u001b[32mconducted;  \\n2\u001b[0m\u001b[32m)\u001b[0m\u001b[32m Develop a control assessment plan that describes the scope of the assessment including:  \\n   a\u001b[0m\u001b[32m)\u001b[0m\u001b[32m \u001b[0m\n",
      "\u001b[32mControls and control enhancements under assessment;  \\n   b\u001b[0m\u001b[32m)\u001b[0m\u001b[32m Assessment procedures to be used to determine control \u001b[0m\n",
      "\u001b[32meffectiveness; and  \\n   c\u001b[0m\u001b[32m)\u001b[0m\u001b[32m Assessment environment, assessment team and assessment roles and responsibilities;  \u001b[0m\n",
      "\u001b[32m\\n3\u001b[0m\u001b[32m)\u001b[0m\u001b[32m Ensure the control assessment plan is reviewed and approved by the authorizing official or designated \u001b[0m\n",
      "\u001b[32mrepresentative prior to conducting the assessment;  \\n4\u001b[0m\u001b[32m)\u001b[0m\u001b[32m Assess the security controls in the information system and\u001b[0m\n",
      "\u001b[32mits environment of operation annually or upon significant change to the system or environment to determine the \u001b[0m\n",
      "\u001b[32mextent to which the controls are implemented correctly, operating as intended, and producing the desired outcome \u001b[0m\n",
      "\u001b[32mwith respect to meeting established security and privacy requirements;  \\n5\u001b[0m\u001b[32m)\u001b[0m\u001b[32m Produce a control assessment report \u001b[0m\n",
      "\u001b[32mthat documents the results of the assessment; and  \\n6\u001b[0m\u001b[32m)\u001b[0m\u001b[32m Provide the results of the control assessment to the ISO, \u001b[0m\n",
      "\u001b[32mInformation System Security Officer \u001b[0m\u001b[32m(\u001b[0m\u001b[32mISSO\u001b[0m\u001b[32m)\u001b[0m\u001b[32m and Office of Information Security and Privacy \u001b[0m\u001b[32m(\u001b[0m\u001b[32mOISP\u001b[0m\u001b[32m)\u001b[0m\u001b[32m.  \\n\\n#### CA-2\u001b[0m\u001b[32m(\u001b[0m\u001b[32m1\u001b[0m\u001b[32m)\u001b[0m\n",
      "\u001b[32m– Control Assessments | Independent Assessors  \\nFor Moderate and High Systems:  \\n1\u001b[0m\u001b[32m)\u001b[0m\u001b[32m Employ independent assessors \u001b[0m\n",
      "\u001b[32mor assessment teams to conduct control assessments.  \\n\\n#### CA-2\u001b[0m\u001b[32m(\u001b[0m\u001b[32m2\u001b[0m\u001b[32m)\u001b[0m\u001b[32m – Control Assessments | Specialized \u001b[0m\n",
      "\u001b[32mAssessments  \\nFor High Systems:  \\n1\u001b[0m\u001b[32m)\u001b[0m\u001b[32m Include as part of control assessments, annual, announced, penetration \u001b[0m\n",
      "\u001b[32mtesting or other forms of testing to include but not limited to:  \\n   a\u001b[0m\u001b[32m)\u001b[0m\u001b[32m Automated security test cases as feasible\u001b[0m\n",
      "\u001b[32mby the assessor;  \\n   b\u001b[0m\u001b[32m)\u001b[0m\u001b[32m Vulnerability scanning;  \\n   c\u001b[0m\u001b[32m)\u001b[0m\u001b[32m Malicious user testing;  \\n   d\u001b[0m\u001b[32m)\u001b[0m\u001b[32m Performance and load \u001b[0m\n",
      "\u001b[32mtesting;  \\n   e\u001b[0m\u001b[32m)\u001b[0m\u001b[32m Data leakage or data loss assessment;  \\n   f\u001b[0m\u001b[32m)\u001b[0m\u001b[32m Insider threat assessment; and  \\n   g\u001b[0m\u001b[32m)\u001b[0m\u001b[32m \u001b[0m\n",
      "\u001b[32mSystem-specific requirements as identified by the Region or Program Office and must be documented in the System \u001b[0m\n",
      "\u001b[32mSecurity Plan \u001b[0m\u001b[32m(\u001b[0m\u001b[32mSSP\u001b[0m\u001b[32m)\u001b[0m\u001b[32m and Security Control Test Plan.  \\n\\n#### CA-3 – Information Exchange  \\nFor All Systems:  \\n1\u001b[0m\u001b[32m)\u001b[0m\n",
      "\u001b[32mApprove and manage the exchange of information between the system and other systems using Interconnection Security \u001b[0m\n",
      "\u001b[32mAgreements \u001b[0m\u001b[32m(\u001b[0m\u001b[32mISA\u001b[0m\u001b[32m)\u001b[0m\u001b[32m; information exchange security agreements; Memoranda of Understanding or Agreement \u001b[0m\u001b[32m(\u001b[0m\u001b[32mMOU/A\u001b[0m\u001b[32m)\u001b[0m\u001b[32m; or \u001b[0m\n",
      "\u001b[32mService Level Agreements \u001b[0m\u001b[32m(\u001b[0m\u001b[32mSLA\u001b[0m\u001b[32m)\u001b[0m\u001b[32m;  \\n2\u001b[0m\u001b[32m)\u001b[0m\u001b[32m Document, as part of each exchange agreement, the interface characteristics, \u001b[0m\n",
      "\u001b[32msecurity and privacy requirements, controls, and responsibilities for each system, and the impact level of the \u001b[0m\n",
      "\u001b[32minformation communicated; and  \\n3\u001b[0m\u001b[32m)\u001b[0m\u001b[32m Review and update the agreements as agreed upon by the participating \u001b[0m\n",
      "\u001b[32msignatories but not to exceed three \u001b[0m\u001b[32m(\u001b[0m\u001b[32m3\u001b[0m\u001b[32m)\u001b[0m\u001b[32m years or whenever there is a significant change to any of the systems \u001b[0m\n",
      "\u001b[32mcovered by the agreements.  \\n\\n#### CA-3\u001b[0m\u001b[32m(\u001b[0m\u001b[32m6\u001b[0m\u001b[32m)\u001b[0m\u001b[32m – Information Exchange | Transfer Authorizations  \\nFor High Systems: \u001b[0m\n",
      "\u001b[32m\\n1\u001b[0m\u001b[32m)\u001b[0m\u001b[32m Verify that individuals or systems transferring data between interconnecting systems have the requisite \u001b[0m\n",
      "\u001b[32mauthorizations \u001b[0m\u001b[32m(\u001b[0m\u001b[32mi.e., write permissions or privileges\u001b[0m\u001b[32m)\u001b[0m\u001b[32m prior to accepting such data.  \\n\\n#### CA-5 – Plan of \u001b[0m\n",
      "\u001b[32mAction and Milestones  \\nFor All Systems:  \\n1\u001b[0m\u001b[32m)\u001b[0m\u001b[32m Develop a plan of action and milestones for the system to document \u001b[0m\n",
      "\u001b[32mthe planned remediation actions of the organization to correct weaknesses or deficiencies noted during the \u001b[0m\n",
      "\u001b[32massessment of the controls and to reduce or eliminate known vulnerabilities in the system; and  \\n2\u001b[0m\u001b[32m)\u001b[0m\u001b[32m Update \u001b[0m\n",
      "\u001b[32mexisting plan of action and milestones monthly based on the findings from control assessments, independent audits \u001b[0m\n",
      "\u001b[32mor reviews, and continuous monitoring activities.  \\n\\n#### CA-6 – Authorization  \\nFor All Systems:  \\n1\u001b[0m\u001b[32m)\u001b[0m\u001b[32m Assign a\u001b[0m\n",
      "\u001b[32msenior official as the authorizing official for the system;  \\n2\u001b[0m\u001b[32m)\u001b[0m\u001b[32m Assign a senior official as the authorizing \u001b[0m\n",
      "\u001b[32mofficial for common controls available for inheritance by organizational systems;  \\n3\u001b[0m\u001b[32m)\u001b[0m\u001b[32m Ensure that the authorizing\u001b[0m\n",
      "\u001b[32mofficial for the system, before commencing operations:  \\n   a\u001b[0m\u001b[32m)\u001b[0m\u001b[32m Accepts the use of common controls inherited by the\u001b[0m\n",
      "\u001b[32msystem; and  \\n   b\u001b[0m\u001b[32m)\u001b[0m\u001b[32m Authorizes the system to operate;  \\n4\u001b[0m\u001b[32m)\u001b[0m\u001b[32m Ensure that the authorizing official for common \u001b[0m\n",
      "\u001b[32mcontrols authorizes the use of those controls for inheritance by organizational systems;  \\n5\u001b[0m\u001b[32m)\u001b[0m\u001b[32m Update the \u001b[0m\n",
      "\u001b[32mauthorizations at least every three \u001b[0m\u001b[32m(\u001b[0m\u001b[32m3\u001b[0m\u001b[32m)\u001b[0m\u001b[32m years or upon a significant change to the system or operating environment. \u001b[0m\n",
      "\u001b[32m\\n\\n#### CA-7 – Continuous Monitoring  \\nFor All Systems:  \\n1\u001b[0m\u001b[32m)\u001b[0m\u001b[32m Develop a system-level continuous monitoring \u001b[0m\n",
      "\u001b[32mstrategy and implement continuous monitoring in accordance with the organization-level continuous monitoring \u001b[0m\n",
      "\u001b[32mstrategy that includes:  \\n   a\u001b[0m\u001b[32m)\u001b[0m\u001b[32m Establishing the following system-level metrics to be monitored:  \\n      i\u001b[0m\u001b[32m)\u001b[0m\u001b[32m \u001b[0m\n",
      "\u001b[32mNumber of open or unremediated vulnerabilities;  \\n      ii\u001b[0m\u001b[32m)\u001b[0m\u001b[32m Number of unremediated findings;  \\n      iii\u001b[0m\u001b[32m)\u001b[0m\u001b[32m Number \u001b[0m\n",
      "\u001b[32mof open plan of action and milestones;  \\n      iv\u001b[0m\u001b[32m)\u001b[0m\u001b[32m Number of past due vulnerability remediations;  \\n      v\u001b[0m\u001b[32m)\u001b[0m\u001b[32m \u001b[0m\n",
      "\u001b[32mNumber of past due plan of action and milestones; and  \\n      vi\u001b[0m\u001b[32m)\u001b[0m\u001b[32m Date of last contingency plan test, SSP review, \u001b[0m\n",
      "\u001b[32mincident response plan testing, and configuration management plan review;  \\n   b\u001b[0m\u001b[32m)\u001b[0m\u001b[32m Establishing monthly for \u001b[0m\n",
      "\u001b[32mmonitoring and annually for assessment of control effectiveness;  \\n   c\u001b[0m\u001b[32m)\u001b[0m\u001b[32m Ongoing control assessments in accordance\u001b[0m\n",
      "\u001b[32mwith the continuous monitoring strategy;  \\n   d\u001b[0m\u001b[32m)\u001b[0m\u001b[32m Ongoing monitoring of system and organization-defined metrics in \u001b[0m\n",
      "\u001b[32maccordance with the continuous monitoring strategy;  \\n   e\u001b[0m\u001b[32m)\u001b[0m\u001b[32m Correlation and analysis of information generated by \u001b[0m\n",
      "\u001b[32mcontrol assessments and monitoring;  \\n   f\u001b[0m\u001b[32m)\u001b[0m\u001b[32m Response actions to address results of the analysis of control \u001b[0m\n",
      "\u001b[32massessment and monitoring information; and  \\n   g\u001b[0m\u001b[32m)\u001b[0m\u001b[32m Reporting the security and privacy status of the system to the \u001b[0m\n",
      "\u001b[32mEPA CISO annually, after a significant change to the system or operating environment, or a reported significant \u001b[0m\n",
      "\u001b[32mcybersecurity incident.  \\n\\n#### CA-7\u001b[0m\u001b[32m(\u001b[0m\u001b[32m1\u001b[0m\u001b[32m)\u001b[0m\u001b[32m – Continuous Monitoring | Independent Assessment  \\nFor Moderate and High\u001b[0m\n",
      "\u001b[32mSystems:  \\n1\u001b[0m\u001b[32m)\u001b[0m\u001b[32m Employ independent assessors or assessment teams to monitor the controls in the system on an ongoing\u001b[0m\n",
      "\u001b[32mbasis.  \\n\\n#### CA-7\u001b[0m\u001b[32m(\u001b[0m\u001b[32m4\u001b[0m\u001b[32m)\u001b[0m\u001b[32m – Continuous Monitoring | Risk Monitoring  \\nFor All Systems:  \\n1\u001b[0m\u001b[32m)\u001b[0m\u001b[32m Ensure risk monitoring\u001b[0m\n",
      "\u001b[32mis an integral part of the continuous monitoring strategy that includes the following:  \\n   a\u001b[0m\u001b[32m)\u001b[0m\u001b[32m Effectiveness \u001b[0m\n",
      "\u001b[32mmonitoring;  \\n   b\u001b[0m\u001b[32m)\u001b[0m\u001b[32m Compliance monitoring; and  \\n   c\u001b[0m\u001b[32m)\u001b[0m\u001b[32m Change monitoring.  \\n\\n#### CA-8 – Penetration Testing  \u001b[0m\n",
      "\u001b[32m\\nFor High Systems:  \\n1\u001b[0m\u001b[32m)\u001b[0m\u001b[32m Conduct penetration testing annually on FIPS 199 categorized ‘High’ systems and High \u001b[0m\n",
      "\u001b[32mValue Assets \u001b[0m\u001b[32m(\u001b[0m\u001b[32mHVA\u001b[0m\u001b[32m)\u001b[0m\u001b[32m.  \\n\\n#### CA-8\u001b[0m\u001b[32m(\u001b[0m\u001b[32m1\u001b[0m\u001b[32m)\u001b[0m\u001b[32m – Penetration Testing | Independent Penetration Agent or Team  \\nFor High \u001b[0m\n",
      "\u001b[32mSystems:  \\n1\u001b[0m\u001b[32m)\u001b[0m\u001b[32m Employ an independent penetration testing agent or team to perform penetration testing on the system\u001b[0m\n",
      "\u001b[32mor system components.  \\n\\n#### CA-9 – Internal System Connections  \\nFor All Systems:  \\n1\u001b[0m\u001b[32m)\u001b[0m\u001b[32m Authorize internal \u001b[0m\n",
      "\u001b[32mconnections of devices or system components \u001b[0m\u001b[32m(\u001b[0m\u001b[32mexamples include mobile devices, laptops and desktop computers, \u001b[0m\n",
      "\u001b[32mtablets, printers, card readers, scanners, sensors, or other IT related components\u001b[0m\u001b[32m)\u001b[0m\u001b[32m to the system;  \\n2\u001b[0m\u001b[32m)\u001b[0m\u001b[32m Document, \u001b[0m\n",
      "\u001b[32mfor each internal connection, the interface characteristics, security and privacy requirements and the nature of \u001b[0m\n",
      "\u001b[32mthe information communicated;  \\n3\u001b[0m\u001b[32m)\u001b[0m\u001b[32m Terminate internal system connections after exposure to certain security events\u001b[0m\n",
      "\u001b[32mor when no longer needed to meet mission or business requirements; and  \\n4\u001b[0m\u001b[32m)\u001b[0m\u001b[32m Review annually the continued need for\u001b[0m\n",
      "\u001b[32meach internal connection.  '\u001b[0m,\n",
      "        \u001b[32m'document'\u001b[0m: \n",
      "\u001b[32m'../resources/EPA_Policy_Example/information_security_assessment_authorization_and_monitoring_procedure.pdf'\u001b[0m\n",
      "    \u001b[1m}\u001b[0m\n",
      "\u001b[1m)\u001b[0m\n"
     ]
    },
    {
     "data": {
      "text/html": [
       "<pre style=\"white-space:pre;overflow-x:auto;line-height:normal;font-family:Menlo,'DejaVu Sans Mono',consolas,'Courier New',monospace\"></pre>\n"
      ],
      "text/plain": []
     },
     "metadata": {},
     "output_type": "display_data"
    },
    {
     "name": "stdout",
     "output_type": "stream",
     "text": [
      "\u001b[1;35mPolicyDoc\u001b[0m\u001b[1m(\u001b[0m\n",
      "    \u001b[33mid\u001b[0m=\u001b[32m'688d436db740cd6b5cd41e5dfb4d5d4f'\u001b[0m,\n",
      "    \u001b[33mtext\u001b[0m=\u001b[32m'../resources/EPA_Policy_Example/information_security_assessment_authorization_and_monitoring_procedure.pd\u001b[0m\n",
      "\u001b[32mf2'\u001b[0m,\n",
      "    \u001b[33membedding\u001b[0m=\u001b[1;35mNdArray\u001b[0m\u001b[1m(\u001b[0m\u001b[1m[\u001b[0m \u001b[1;36m0.01593186\u001b[0m,  \u001b[1;36m0.00282322\u001b[0m, \u001b[1;36m-0.00679782\u001b[0m, \u001b[33m...\u001b[0m, \u001b[1;36m-0.00666394\u001b[0m,\n",
      "         \u001b[1;36m-0.01370274\u001b[0m, \u001b[1;36m-0.00795924\u001b[0m\u001b[1m]\u001b[0m\u001b[1m)\u001b[0m,\n",
      "    \u001b[33mmetadata\u001b[0m=\u001b[1m{\u001b[0m\n",
      "        \u001b[32m'text'\u001b[0m: \u001b[32m'### 1. PURPOSE  \\nThe purpose of this procedure is to facilitate the implementation of \u001b[0m\n",
      "\u001b[32mEnvironmental Protection Agency \u001b[0m\u001b[32m(\u001b[0m\u001b[32mEPA\u001b[0m\u001b[32m)\u001b[0m\u001b[32m security control requirements for the Assessment, Authorization and \u001b[0m\n",
      "\u001b[32mMonitoring \u001b[0m\u001b[32m(\u001b[0m\u001b[32mCA\u001b[0m\u001b[32m)\u001b[0m\u001b[32m control family, as identified in National Institute of Standards and Technology \u001b[0m\u001b[32m(\u001b[0m\u001b[32mNIST\u001b[0m\u001b[32m)\u001b[0m\u001b[32m Special \u001b[0m\n",
      "\u001b[32mPublication \u001b[0m\u001b[32m(\u001b[0m\u001b[32mSP\u001b[0m\u001b[32m)\u001b[0m\u001b[32m 800-53, Revision 5, Security and Privacy Controls for Information Systems and Organization.  '\u001b[0m,\n",
      "        \u001b[32m'document'\u001b[0m: \n",
      "\u001b[32m'../resources/EPA_Policy_Example/information_security_assessment_authorization_and_monitoring_procedure.pdf'\u001b[0m\n",
      "    \u001b[1m}\u001b[0m\n",
      "\u001b[1m)\u001b[0m\n"
     ]
    },
    {
     "data": {
      "text/html": [
       "<pre style=\"white-space:pre;overflow-x:auto;line-height:normal;font-family:Menlo,'DejaVu Sans Mono',consolas,'Courier New',monospace\"></pre>\n"
      ],
      "text/plain": []
     },
     "metadata": {},
     "output_type": "display_data"
    },
    {
     "name": "stdout",
     "output_type": "stream",
     "text": [
      "\u001b[1;35mPolicyDoc\u001b[0m\u001b[1m(\u001b[0m\n",
      "    \u001b[33mid\u001b[0m=\u001b[32m'60e933f174b1540337a28c19bc4ba635'\u001b[0m,\n",
      "    \u001b[33mtext\u001b[0m=\u001b[32m'../resources/EPA_Policy_Example/information_security_planning_procedure.pdf6'\u001b[0m,\n",
      "    \u001b[33membedding\u001b[0m=\u001b[1;35mNdArray\u001b[0m\u001b[1m(\u001b[0m\u001b[1m[\u001b[0m \u001b[1;36m0.01852034\u001b[0m,  \u001b[1;36m0.00020712\u001b[0m,  \u001b[1;36m0.00565512\u001b[0m, \u001b[33m...\u001b[0m,  \u001b[1;36m0.01997073\u001b[0m,\n",
      "         \u001b[1;36m-0.01325571\u001b[0m, \u001b[1;36m-0.04604982\u001b[0m\u001b[1m]\u001b[0m\u001b[1m)\u001b[0m,\n",
      "    \u001b[33mmetadata\u001b[0m=\u001b[1m{\u001b[0m\n",
      "        \u001b[32m'text'\u001b[0m: \u001b[32m'### 5. PROCEDURE  \\nSIO, ISO and EPA SO or their official designees for EPA-operated systems; and \u001b[0m\n",
      "\u001b[32mSM, for systems operated on behalf of the EPA and to the extent made applicable to their management of the system \u001b[0m\n",
      "\u001b[32mthrough a contract or other appropriate mechanism, are responsible for implementing the controls in this procedure.\u001b[0m\n",
      "\u001b[32mEPA is adopting this procedure agency-wide, and expects these officials to develop a plan with timelines for \u001b[0m\n",
      "\u001b[32madoption for their system\u001b[0m\u001b[32m(\u001b[0m\u001b[32ms\u001b[0m\u001b[32m)\u001b[0m\u001b[32m. EPA employees, contractors and all other users of EPA information and information \u001b[0m\n",
      "\u001b[32msystems that support the operations and assets of the EPA should be aware of the content of this procedure and \u001b[0m\n",
      "\u001b[32mshould follow the directions provided by SIO, ISO and EPA SO or their official designees and SM for the systems \u001b[0m\n",
      "\u001b[32mthat they oversee.  \\n\\nThe \"PL\" designator \u001b[0m\u001b[32m(\u001b[0m\u001b[32me.g., PL-2, PL-3\u001b[0m\u001b[32m)\u001b[0m\u001b[32m identified for each procedure below corresponds to \u001b[0m\n",
      "\u001b[32mthe NIST- identifier for the Planning control family, as identified in NIST SP 800-53, Revision 5.  \\nNIST defines \u001b[0m\n",
      "\u001b[32mthe applicable PL baseline controls in NIST 800-53B, Control Baselines for Information Systems and Organizations. \u001b[0m\n",
      "\u001b[32mThe applicable security baseline for each impact level \u001b[0m\u001b[32m(\u001b[0m\u001b[32mLow, Moderate, High or For All Systems\u001b[0m\u001b[32m)\u001b[0m\u001b[32m as well as the \u001b[0m\n",
      "\u001b[32mPrivacy Control Baseline are identified below the control name. EPA may deviate from the NIST 800-53B Security or \u001b[0m\n",
      "\u001b[32mPrivacy Control Baselines by adding/removing controls or to applicable baselines and are notated with an asterisk. \u001b[0m\n",
      "\u001b[32m\\n\\n#### PL-2 – System Security and Privacy Plans  \\nFor All Systems and Privacy Control Baseline:  \\nDevelop \u001b[0m\n",
      "\u001b[32msecurity and privacy plans for the system that:  \\n1. Are consistent with the organization’s enterprise \u001b[0m\n",
      "\u001b[32marchitecture;  \\n2. Explicitly define the constituent system components;  \\n3. Describe the operational context of \u001b[0m\n",
      "\u001b[32mthe system in terms of mission and business processes;  \\n4. Identify the individuals that fulfill system roles and\u001b[0m\n",
      "\u001b[32mresponsibilities;  \\n5. Identify the information types processed, stored, and transmitted by the system;  \\n6. \u001b[0m\n",
      "\u001b[32mProvide the security categorization of the system, including supporting rationale;  \\n7. Describe any specific \u001b[0m\n",
      "\u001b[32mthreats to the system that are of concern to the organization;  \\n8. Provide the results of a privacy risk \u001b[0m\n",
      "\u001b[32massessment for systems processing personally identifiable information \u001b[0m\u001b[32m(\u001b[0m\u001b[32mPII\u001b[0m\u001b[32m)\u001b[0m\u001b[32m;  \\n9. Describe the operational \u001b[0m\n",
      "\u001b[32menvironment for the system and any dependencies on or connections to other systems or system components;  \\n10. \u001b[0m\n",
      "\u001b[32mProvide an overview of the security and privacy requirements for the system;  \\n11. Identify any relevant control \u001b[0m\n",
      "\u001b[32mbaselines or overlays, if applicable;  \\n12. Describe the controls in place or planned for meeting the security and\u001b[0m\n",
      "\u001b[32mprivacy requirements, including a rationale for any tailoring decisions;  \\n13. Include risk determinations for \u001b[0m\n",
      "\u001b[32msecurity and privacy architecture and design decisions;  \\n14. Include security- and privacy-related activities \u001b[0m\n",
      "\u001b[32maffecting the system that require planning and coordination with the Office of Information Security and Privacy \u001b[0m\n",
      "\u001b[32m(\u001b[0m\u001b[32mOISP\u001b[0m\u001b[32m)\u001b[0m\u001b[32m; and  \\n15. Are reviewed and approved by the authorizing official or designated representative prior to plan\u001b[0m\n",
      "\u001b[32mimplementation.  \\n\\nDistribute copies of the plans and communicate subsequent changes to the ISO, Information \u001b[0m\n",
      "\u001b[32mSystem Security Officer \u001b[0m\u001b[32m(\u001b[0m\u001b[32mISSO\u001b[0m\u001b[32m)\u001b[0m\u001b[32m, Information Management Officer \u001b[0m\u001b[32m(\u001b[0m\u001b[32mIMO\u001b[0m\u001b[32m)\u001b[0m\u001b[32m, Liaison Privacy Official \u001b[0m\u001b[32m(\u001b[0m\u001b[32mLPO\u001b[0m\u001b[32m)\u001b[0m\u001b[32m, Information \u001b[0m\n",
      "\u001b[32mResource Management Branch Chief \u001b[0m\u001b[32m(\u001b[0m\u001b[32mIRMBC\u001b[0m\u001b[32m)\u001b[0m\u001b[32m and ensure the latest version is uploaded as an artifact in the EPA \u001b[0m\n",
      "\u001b[32mGovernance, Risk and Compliance \u001b[0m\u001b[32m(\u001b[0m\u001b[32mGRC\u001b[0m\u001b[32m)\u001b[0m\u001b[32m tool;  \\nReview the plans annually or when there are significant changes \u001b[0m\n",
      "\u001b[32moccurring to the system such as, major upgrade to operating system \u001b[0m\u001b[32m(\u001b[0m\u001b[32mOS\u001b[0m\u001b[32m)\u001b[0m\u001b[32m or critical software; or change in the \u001b[0m\n",
      "\u001b[32moperating environment, e.g. moving from on-premise to cloud \u001b[0m\u001b[32m(\u001b[0m\u001b[32mor vice versa\u001b[0m\u001b[32m)\u001b[0m\u001b[32m, additions or reductions to the data or\u001b[0m\n",
      "\u001b[32minformation types, or shifting to a hybrid model.  \\nUpdate the plans to address changes to the system and \u001b[0m\n",
      "\u001b[32menvironment of operation or problems identified during plan implementation or control assessments; and  \\nProtect \u001b[0m\n",
      "\u001b[32mthe plans from unauthorized disclosure and modification.  \\n\\n#### PL-4 – Rules of Behavior  \\nFor All Systems and \u001b[0m\n",
      "\u001b[32mPrivacy Control Baseline:  \\n1. Establish and provide to individuals requiring access to the system, the rules that\u001b[0m\n",
      "\u001b[32mdescribe their responsibilities and expected behavior for information and system usage, security, and privacy;  \u001b[0m\n",
      "\u001b[32m\\n2. Receive a documented acknowledgment from such individuals, indicating that they have read, understand, and \u001b[0m\n",
      "\u001b[32magree to abide by the rules of behavior, before authorizing access to information and the system;  \\n3. Review and \u001b[0m\n",
      "\u001b[32mupdate the rules of behavior annually or after changes to the system functionality or environment; and  \\n4. \u001b[0m\n",
      "\u001b[32mRequire individuals who have acknowledged a previous version of the rules of behavior to read and re-acknowledge \u001b[0m\n",
      "\u001b[32mwhen the rules are modified.  \\n\\n##### PL-4\u001b[0m\u001b[32m(\u001b[0m\u001b[32m1\u001b[0m\u001b[32m)\u001b[0m\u001b[32m – Rules of Behavior | Social Media and External Site/Application \u001b[0m\n",
      "\u001b[32mUsage Restrictions  \\nFor All Systems and Privacy Control Baseline:  \\nInclude in the rules of behavior, \u001b[0m\n",
      "\u001b[32mrestrictions on:  \\n1. Use of social media, social networking sites, and external sites/applications;  \\n2. Posting\u001b[0m\n",
      "\u001b[32morganizational information on public websites; and  \\n3. Use of organization-provided identifiers \u001b[0m\u001b[32m(\u001b[0m\u001b[32me.g., email \u001b[0m\n",
      "\u001b[32maddresses\u001b[0m\u001b[32m)\u001b[0m\u001b[32m and authentication secrets \u001b[0m\u001b[32m(\u001b[0m\u001b[32me.g., passwords\u001b[0m\u001b[32m)\u001b[0m\u001b[32m for creating accounts on external sites/applications.  \u001b[0m\n",
      "\u001b[32m\\n\\n#### PL-8 – Security and Privacy Architectures  \\nFor Moderate and High Systems and Privacy Control Baseline:  \u001b[0m\n",
      "\u001b[32m\\nDevelop security and privacy architectures for the system that:  \\n1. Describe the requirements and approach to \u001b[0m\n",
      "\u001b[32mbe taken for protecting the confidentiality, integrity, and availability of organizational information;  \\n2. \u001b[0m\n",
      "\u001b[32mDescribe the requirements and approach to be taken for processing personally identifiable information to minimize \u001b[0m\n",
      "\u001b[32mthe risk to individuals;  \\n3. Describe how the architectures are integrated into and support the enterprise \u001b[0m\n",
      "\u001b[32marchitecture; and  \\n4. Describe any assumptions about, and dependencies on, external systems and services;  \\n5. \u001b[0m\n",
      "\u001b[32mReview and update the architectures annually or upon notification of changes to the architecture to reflect updates\u001b[0m\n",
      "\u001b[32min the enterprise architecture; and  \\n6. Reflect planned architecture changes in security and privacy plans, \u001b[0m\n",
      "\u001b[32mConcept of Operations \u001b[0m\u001b[32m(\u001b[0m\u001b[32mCONOPS\u001b[0m\u001b[32m)\u001b[0m\u001b[32m, criticality analysis, organizational procedures, and procurements and acquisitions.\u001b[0m\n",
      "\u001b[32m\\n\\n#### PL-9 – Central Management  \\nFor Privacy Control Baseline:  \\nCentrally manage the EPA-wide EPA Common \u001b[0m\n",
      "\u001b[32mControls, which include common controls identified as fully inherited or hybrid for only the enterprise EPA-wide \u001b[0m\n",
      "\u001b[32mresponsibility part of the control, that would be available for all EPA information systems.  \\n\\n#### PL-10 – \u001b[0m\n",
      "\u001b[32mBaseline Selection  \\nFor All Systems:  \\n1. Select a control baseline for the system.  \\n\\n#### PL-11 – Baseline \u001b[0m\n",
      "\u001b[32mTailoring  \\nFor All Systems:  \\nTailor the selected control baseline by applying specified tailoring actions.  '\u001b[0m,\n",
      "        \u001b[32m'document'\u001b[0m: \u001b[32m'../resources/EPA_Policy_Example/information_security_planning_procedure.pdf'\u001b[0m\n",
      "    \u001b[1m}\u001b[0m\n",
      "\u001b[1m)\u001b[0m\n"
     ]
    },
    {
     "data": {
      "text/html": [
       "<pre style=\"white-space:pre;overflow-x:auto;line-height:normal;font-family:Menlo,'DejaVu Sans Mono',consolas,'Courier New',monospace\"></pre>\n"
      ],
      "text/plain": []
     },
     "metadata": {},
     "output_type": "display_data"
    },
    {
     "name": "stdout",
     "output_type": "stream",
     "text": [
      "\u001b[1;35mPolicyDoc\u001b[0m\u001b[1m(\u001b[0m\n",
      "    \u001b[33mid\u001b[0m=\u001b[32m'0da27d1fd4778a84032de890f11cdcda'\u001b[0m,\n",
      "    \u001b[33mtext\u001b[0m=\u001b[32m'../resources/EPA_Policy_Example/information_security_risk_assessment_procedure.pdf6'\u001b[0m,\n",
      "    \u001b[33membedding\u001b[0m=\u001b[1;35mNdArray\u001b[0m\u001b[1m(\u001b[0m\u001b[1m[\u001b[0m \u001b[1;36m0.01924152\u001b[0m, \u001b[1;36m-0.00356093\u001b[0m, \u001b[1;36m-0.00022733\u001b[0m, \u001b[33m...\u001b[0m, \u001b[1;36m-0.00720516\u001b[0m,\n",
      "         \u001b[1;36m-0.00887109\u001b[0m, \u001b[1;36m-0.03090305\u001b[0m\u001b[1m]\u001b[0m\u001b[1m)\u001b[0m,\n",
      "    \u001b[33mmetadata\u001b[0m=\u001b[1m{\u001b[0m\n",
      "        \u001b[32m'text'\u001b[0m: \u001b[32m'### 5. PROCEDURE  \\nSIO, ISO and EPA SO or their official designees for EPA-operated systems; and \u001b[0m\n",
      "\u001b[32mSM, for systems operated on behalf of the EPA and to the extent made applicable to their management of the system \u001b[0m\n",
      "\u001b[32mthrough a contract or other appropriate mechanism, are responsible for implementing the controls in this procedure.\u001b[0m\n",
      "\u001b[32mEPA is adopting this procedure agency-wide and expects these officials to develop a plan with timelines for \u001b[0m\n",
      "\u001b[32madoption for their system\u001b[0m\u001b[32m(\u001b[0m\u001b[32ms\u001b[0m\u001b[32m)\u001b[0m\u001b[32m. EPA employees, contractors and all other users of EPA information and information \u001b[0m\n",
      "\u001b[32msystems that support the operations and assets of the EPA should be aware of the content of this procedure and \u001b[0m\n",
      "\u001b[32mshould follow the directions provided by SIO, ISO, SM and SO or their official designees for the systems that they \u001b[0m\n",
      "\u001b[32moversee.  \\nThe \"RA\" designator \u001b[0m\u001b[32m(\u001b[0m\u001b[32me.g., RA-2, RA-3\u001b[0m\u001b[32m)\u001b[0m\u001b[32m identified for each procedure below corresponds to the NIST- \u001b[0m\n",
      "\u001b[32midentifier for the Risk Assessment control family, as identified in NIST SP 800-53, Revision 5.  \\nNIST defines the\u001b[0m\n",
      "\u001b[32mapplicable RA baseline controls in NIST 800-53B, Control Baselines for Information Systems and Organizations. The \u001b[0m\n",
      "\u001b[32mapplicable security baseline for each impact level \u001b[0m\u001b[32m(\u001b[0m\u001b[32mLow, Moderate, High or For All Systems\u001b[0m\u001b[32m)\u001b[0m\u001b[32m as well as the Privacy \u001b[0m\n",
      "\u001b[32mControl Baseline are identified below the control name. EPA may deviate from the NIST 800-53B Security or Privacy \u001b[0m\n",
      "\u001b[32mControl Baselines by adding/removing controls or to applicable baselines and are notated with an asterisk.  \u001b[0m\n",
      "\u001b[32m\\n\\n#### RA-2 – Security Categorization  \\n**For All Systems:**  \\n1\u001b[0m\u001b[32m)\u001b[0m\u001b[32m Categorize the system and information it \u001b[0m\n",
      "\u001b[32mprocesses, stores, and transmits;  \\n2\u001b[0m\u001b[32m)\u001b[0m\u001b[32m Document the security categorization results, including supporting \u001b[0m\n",
      "\u001b[32mrationale, in the security plan for the system; and  \\n3\u001b[0m\u001b[32m)\u001b[0m\u001b[32m Verify that the authorizing official or authorizing \u001b[0m\n",
      "\u001b[32mofficial designated representative reviews and approves the security categorization decision.  \\n\\n#### RA-3 – Risk\u001b[0m\n",
      "\u001b[32mAssessment  \\n**For All Systems and Privacy Control Baseline:**  \\n1\u001b[0m\u001b[32m)\u001b[0m\u001b[32m Conduct a risk assessment, including:  \\n   \u001b[0m\n",
      "\u001b[32ma\u001b[0m\u001b[32m)\u001b[0m\u001b[32m Identifying threats to and vulnerabilities in the system;  \\n   b\u001b[0m\u001b[32m)\u001b[0m\u001b[32m Determining the likelihood and magnitude of \u001b[0m\n",
      "\u001b[32mharm from unauthorized access, use, disclosure, disruption, modification, or destruction of the system, the \u001b[0m\n",
      "\u001b[32minformation it processes, stores, or transmits and any related information; and  \\n   c\u001b[0m\u001b[32m)\u001b[0m\u001b[32m Determining the likelihood\u001b[0m\n",
      "\u001b[32mand impact of adverse effects on individuals arising from the processing of personally identifiable information;  \u001b[0m\n",
      "\u001b[32m\\n2\u001b[0m\u001b[32m)\u001b[0m\u001b[32m Integrate risk assessment results and risk management decisions from the organization and mission or business \u001b[0m\n",
      "\u001b[32mprocess perspectives with system-level risk assessments;  \\n3\u001b[0m\u001b[32m)\u001b[0m\u001b[32m Document risk assessment results in the Risk \u001b[0m\n",
      "\u001b[32mAssessment Report \u001b[0m\u001b[32m(\u001b[0m\u001b[32mRAR\u001b[0m\u001b[32m)\u001b[0m\u001b[32m and/or Security Assessment Report \u001b[0m\u001b[32m(\u001b[0m\u001b[32mSAR\u001b[0m\u001b[32m)\u001b[0m\u001b[32m;  \\n4\u001b[0m\u001b[32m)\u001b[0m\u001b[32m Review risk assessment results within one \u001b[0m\n",
      "\u001b[32m(\u001b[0m\u001b[32m1\u001b[0m\u001b[32m)\u001b[0m\u001b[32m week after an assessment, annually thereafter or whenever an update to the risk assessment is made;  \\n5\u001b[0m\u001b[32m)\u001b[0m\u001b[32m \u001b[0m\n",
      "\u001b[32mDisseminate risk assessment results to the SO, ISO, SIO, Information System Security Officer \u001b[0m\u001b[32m(\u001b[0m\u001b[32mISSO\u001b[0m\u001b[32m)\u001b[0m\u001b[32m, and the Office\u001b[0m\n",
      "\u001b[32mof Information Security and Privacy \u001b[0m\u001b[32m(\u001b[0m\u001b[32mOISP\u001b[0m\u001b[32m)\u001b[0m\u001b[32m; and  \\n6\u001b[0m\u001b[32m)\u001b[0m\u001b[32m Update the risk assessment annually or when there are \u001b[0m\n",
      "\u001b[32msignificant changes to the system, its environment of operation, or other conditions that may impact the security \u001b[0m\n",
      "\u001b[32mor privacy state of the system.  \\n\\n#### RA-3\u001b[0m\u001b[32m(\u001b[0m\u001b[32m1\u001b[0m\u001b[32m)\u001b[0m\u001b[32m – Risk Assessment | Supply Chain Risk Assessment  \\n**For All \u001b[0m\n",
      "\u001b[32mSystems:**  \\n1\u001b[0m\u001b[32m)\u001b[0m\u001b[32m Assess supply chain risks associated with EPA owned or operated systems, system components and \u001b[0m\n",
      "\u001b[32msystem services; and  \\n2\u001b[0m\u001b[32m)\u001b[0m\u001b[32m Update the supply chain risk assessment annually, when there are significant changes to \u001b[0m\n",
      "\u001b[32mthe relevant supply chain, or when changes to the system, environments of operation, or other conditions may \u001b[0m\n",
      "\u001b[32mnecessitate a change in the supply chain.  \\n\\n#### RA-5 – Vulnerability Scanning  \\n**For All Systems:**  \\n1\u001b[0m\u001b[32m)\u001b[0m\u001b[32m \u001b[0m\n",
      "\u001b[32mMonitor and scan for vulnerabilities in the system and hosted applications across all environments \u001b[0m\u001b[32m(\u001b[0m\u001b[32me.g., cloud, \u001b[0m\n",
      "\u001b[32mon-premise, isolated\u001b[0m\u001b[32m)\u001b[0m\u001b[32m to meet the following minimum requirements:  \\n   a\u001b[0m\u001b[32m)\u001b[0m\u001b[32m Networked devices every seventy two \u001b[0m\u001b[32m(\u001b[0m\u001b[32m72\u001b[0m\u001b[32m)\u001b[0m\n",
      "\u001b[32mhours;  \\n   b\u001b[0m\u001b[32m)\u001b[0m\u001b[32m Databases monthly;  \\n   c\u001b[0m\u001b[32m)\u001b[0m\u001b[32m Internet-facing web applications and web applications associated with \u001b[0m\n",
      "\u001b[32man Agency-defined high value asset \u001b[0m\u001b[32m(\u001b[0m\u001b[32mHVA\u001b[0m\u001b[32m)\u001b[0m\u001b[32m, using at a minimum, Dynamic Application Security Testing \u001b[0m\u001b[32m(\u001b[0m\u001b[32mDAST\u001b[0m\u001b[32m)\u001b[0m\u001b[32m \u001b[0m\n",
      "\u001b[32mquarterly; and  \\n   d\u001b[0m\u001b[32m)\u001b[0m\u001b[32m As required based on management decisions, federal directives, or identified risks and when\u001b[0m\n",
      "\u001b[32mnew vulnerabilities potentially affecting the system are identified and reported;  \\n2\u001b[0m\u001b[32m)\u001b[0m\u001b[32m Employ vulnerability \u001b[0m\n",
      "\u001b[32mmonitoring tools and techniques that facilitate interoperability among tools and automate parts of the \u001b[0m\n",
      "\u001b[32mvulnerability management process by using standards for:  \\n   a\u001b[0m\u001b[32m)\u001b[0m\u001b[32m Enumerating platforms, software flaws, and \u001b[0m\n",
      "\u001b[32mimproper configurations;  \\n   b\u001b[0m\u001b[32m)\u001b[0m\u001b[32m Formatting checklists and test procedures; and  \\n   c\u001b[0m\u001b[32m)\u001b[0m\u001b[32m Measuring vulnerability \u001b[0m\n",
      "\u001b[32mimpact.  \\n3\u001b[0m\u001b[32m)\u001b[0m\u001b[32m Analyze vulnerability scan reports and results from vulnerability monitoring;  \\n4\u001b[0m\u001b[32m)\u001b[0m\u001b[32m Remediate \u001b[0m\n",
      "\u001b[32mlegitimate vulnerabilities in accordance with the following timelines:  \\n   a\u001b[0m\u001b[32m)\u001b[0m\u001b[32m Critical- within fifteen \u001b[0m\u001b[32m(\u001b[0m\u001b[32m15\u001b[0m\u001b[32m)\u001b[0m\u001b[32m \u001b[0m\n",
      "\u001b[32mcalendar days;  \\n   b\u001b[0m\u001b[32m)\u001b[0m\u001b[32m Cybersecurity and Infrastructure Security Agency \u001b[0m\u001b[32m(\u001b[0m\u001b[32mCISA\u001b[0m\u001b[32m)\u001b[0m\u001b[32m – defined Known Exploited \u001b[0m\n",
      "\u001b[32mVulnerabilities - as defined within the catalog;  \\n   c\u001b[0m\u001b[32m)\u001b[0m\u001b[32m High Vulnerabilities – within thirty \u001b[0m\u001b[32m(\u001b[0m\u001b[32m30\u001b[0m\u001b[32m)\u001b[0m\u001b[32m calendar days; \u001b[0m\n",
      "\u001b[32m\\n   d\u001b[0m\u001b[32m)\u001b[0m\u001b[32m Moderate Vulnerabilities – within sixty \u001b[0m\u001b[32m(\u001b[0m\u001b[32m60\u001b[0m\u001b[32m)\u001b[0m\u001b[32m calendar days;  \\n   e\u001b[0m\u001b[32m)\u001b[0m\u001b[32m Low Vulnerabilities – ninety \u001b[0m\u001b[32m(\u001b[0m\u001b[32m90\u001b[0m\u001b[32m)\u001b[0m\u001b[32m \u001b[0m\n",
      "\u001b[32mcalendar days;  \\n   f\u001b[0m\u001b[32m)\u001b[0m\u001b[32m Other – Timelines may be reduced when directed by management, federal mandates \u001b[0m\u001b[32m(\u001b[0m\u001b[32me.g. \u001b[0m\n",
      "\u001b[32mBinding Operational Directive \u001b[0m\u001b[32m(\u001b[0m\u001b[32mBOD\u001b[0m\u001b[32m)\u001b[0m\u001b[32m, Cybersecurity Coordination, Assessment, and Response \u001b[0m\u001b[32m(\u001b[0m\u001b[32mCCAR\u001b[0m\u001b[32m)\u001b[0m\u001b[32m)\u001b[0m\u001b[32m, and when threat \u001b[0m\n",
      "\u001b[32mor risk conditions warrant adjustments; and  \\n   g\u001b[0m\u001b[32m)\u001b[0m\u001b[32m When vulnerabilities are not remediated within the required \u001b[0m\n",
      "\u001b[32mtimelines a plan of action and milestone \u001b[0m\u001b[32m(\u001b[0m\u001b[32mPOA&M\u001b[0m\u001b[32m)\u001b[0m\u001b[32m must be opened to address remediation plans;  \\n5\u001b[0m\u001b[32m)\u001b[0m\u001b[32m Share \u001b[0m\n",
      "\u001b[32minformation obtained from the vulnerability monitoring process and control assessments with ISOs, ISSOs, OISP, and \u001b[0m\n",
      "\u001b[32mothers identified by the system owner to help eliminate similar vulnerabilities in other systems; and  \\n6\u001b[0m\u001b[32m)\u001b[0m\u001b[32m Employ \u001b[0m\n",
      "\u001b[32mvulnerability monitoring tools that include the capability to readily update the vulnerabilities to be scanned.  \u001b[0m\n",
      "\u001b[32m\\n\\n#### RA–5\u001b[0m\u001b[32m(\u001b[0m\u001b[32m2\u001b[0m\u001b[32m)\u001b[0m\u001b[32m Vulnerability Monitoring and Scanning | Update Vulnerabilities to be Scanned  \\n**For All \u001b[0m\n",
      "\u001b[32mSystems:**  \\n1\u001b[0m\u001b[32m)\u001b[0m\u001b[32m Update the system vulnerabilities to be scanned no greater than twenty-four \u001b[0m\u001b[32m(\u001b[0m\u001b[32m24\u001b[0m\u001b[32m)\u001b[0m\u001b[32m hours; prior to a\u001b[0m\n",
      "\u001b[32mnew scan; or when new vulnerabilities are identified and reported.  \\n\\n#### RA–5\u001b[0m\u001b[32m(\u001b[0m\u001b[32m4\u001b[0m\u001b[32m)\u001b[0m\u001b[32m – Vulnerability Scanning | \u001b[0m\n",
      "\u001b[32mDiscoverable Information  \\n**For High Systems:**  \\n1\u001b[0m\u001b[32m)\u001b[0m\u001b[32m Determine information about the system that is discoverable\u001b[0m\n",
      "\u001b[32mand take appropriate corrective actions, including notifying the SO or ISO, removing the information, or modifying \u001b[0m\n",
      "\u001b[32mthe system to make the designated information less relevant or attractive to adversaries.  \\n\\n#### RA–5\u001b[0m\u001b[32m(\u001b[0m\u001b[32m5\u001b[0m\u001b[32m)\u001b[0m\u001b[32m \u001b[0m\n",
      "\u001b[32mVulnerability Monitoring and Scanning | Privileged Access  \\n**For Moderate and High Systems:**  \\n1\u001b[0m\u001b[32m)\u001b[0m\u001b[32m Implement \u001b[0m\n",
      "\u001b[32mprivileged access authorization to all networked devices, applications and databases for all vulnerability scans \u001b[0m\n",
      "\u001b[32munless explicit exceptions are approved by the Chief Information Security Officer \u001b[0m\u001b[32m(\u001b[0m\u001b[32mCISO\u001b[0m\u001b[32m)\u001b[0m\u001b[32m or Chief Information \u001b[0m\n",
      "\u001b[32mOfficer \u001b[0m\u001b[32m(\u001b[0m\u001b[32mCIO\u001b[0m\u001b[32m)\u001b[0m\u001b[32m.  \\n\\n#### RA–5\u001b[0m\u001b[32m(\u001b[0m\u001b[32m11\u001b[0m\u001b[32m)\u001b[0m\u001b[32m Vulnerability Monitoring and Scanning | Public Disclosure Program  \\n**For All \u001b[0m\n",
      "\u001b[32mSystems:**  \\n1\u001b[0m\u001b[32m)\u001b[0m\u001b[32m Establish a public reporting channel for receiving reports of vulnerabilities in organizational \u001b[0m\n",
      "\u001b[32msystems and system components.  \\n\\n#### RA–7 – Risk Response  \\n**For All Systems and Privacy Control Baseline:** \u001b[0m\n",
      "\u001b[32m\\n1\u001b[0m\u001b[32m)\u001b[0m\u001b[32m Respond to findings from security and privacy assessments, monitoring, and audits in accordance with \u001b[0m\n",
      "\u001b[32morganizational risk tolerance.  \\n\\n#### RA–8 – Privacy Impact Assessments  \\n**For Privacy Control Baseline:**  \u001b[0m\n",
      "\u001b[32m\\n1\u001b[0m\u001b[32m)\u001b[0m\u001b[32m Conduct privacy impact assessments for systems, programs, or other activities before:  \\n   a\u001b[0m\u001b[32m)\u001b[0m\u001b[32m Developing or \u001b[0m\n",
      "\u001b[32mprocuring information technology that processes personally identifiable information; and  \\n   b\u001b[0m\u001b[32m)\u001b[0m\u001b[32m Initiating a new \u001b[0m\n",
      "\u001b[32mcollection of personally identifiable information that:  \\n      i\u001b[0m\u001b[32m)\u001b[0m\u001b[32m Will be processed using information technology;\u001b[0m\n",
      "\u001b[32mand  \\n      ii\u001b[0m\u001b[32m)\u001b[0m\u001b[32m Includes personally identifiable information permitting the physical or virtual \u001b[0m\u001b[32m(\u001b[0m\u001b[32monline\u001b[0m\u001b[32m)\u001b[0m\u001b[32m \u001b[0m\n",
      "\u001b[32mcontacting of a specific individual, if identical questions have been posed to, or identical reporting requirements\u001b[0m\n",
      "\u001b[32mimposed on, ten or more individuals, other than agencies, instrumentalities, or employees of the federal \u001b[0m\n",
      "\u001b[32mgovernment.  \\n\\n#### RA–9 – Criticality Analysis  \\n**For Moderate and High Systems:**  \\n1\u001b[0m\u001b[32m)\u001b[0m\u001b[32m Identify critical \u001b[0m\n",
      "\u001b[32msystem components and functions by performing a criticality analysis for all EPA FISMA systems at the system design\u001b[0m\n",
      "\u001b[32mphase and throughout the system lifecycle or whenever there are significant changes to any of the systems’ \u001b[0m\n",
      "\u001b[32mcomponents.  '\u001b[0m,\n",
      "        \u001b[32m'document'\u001b[0m: \u001b[32m'../resources/EPA_Policy_Example/information_security_risk_assessment_procedure.pdf'\u001b[0m\n",
      "    \u001b[1m}\u001b[0m\n",
      "\u001b[1m)\u001b[0m\n"
     ]
    }
   ],
   "source": [
    "import textwrap\n",
    "\n",
    "embed_model=\"text-embedding-ada-002\"\n",
    "\n",
    "# Let's try a to search our index! Below is the raw text of an example control\n",
    "query = textwrap.dedent(\"\"\"\n",
    "CA-5 PLAN OF ACTION AND MILESTONES Control: \n",
    "    a. Develop a plan of action and milestones for the system to document the planned remediation \n",
    "       actions of the organization to correct weaknesses or deficiencies noted during the assessment \n",
    "       of the controls and to reduce or eliminate known vulnerabilities in the system; and \n",
    "    b. Update existing plan of action and milestones [Assignment: organization-defined frequency] \n",
    "       based on the findings from control assessments, independent audits or reviews, and continuous\n",
    "       monitoring activities.\n",
    "\"\"\")\n",
    "\n",
    "# Embed the text of the example control, and get the embedding vector itself\n",
    "embedding_response = openai.embeddings.create(input=query, model=embed_model)\n",
    "embedding_Vector = np.array(embedding_response.data[0].embedding)\n",
    "\n",
    "# Turn the example control text and embeddings into a PolicyDoc object\n",
    "qe = PolicyDoc(text=query, embedding=embedding_Vector)\n",
    "\n",
    "# Perform the query\n",
    "res = db.search(inputs=DocList[PolicyDoc]([qe]), limit=4)\n",
    "for m in res[0].matches:\n",
    "    print(m)"
   ]
  },
  {
   "cell_type": "code",
   "execution_count": null,
   "metadata": {},
   "outputs": [],
   "source": []
  }
 ],
 "metadata": {
  "kernelspec": {
   "display_name": "Python 3 (ipykernel)",
   "language": "python",
   "name": "python3"
  },
  "language_info": {
   "codemirror_mode": {
    "name": "ipython",
    "version": 3
   },
   "file_extension": ".py",
   "mimetype": "text/x-python",
   "name": "python",
   "nbconvert_exporter": "python",
   "pygments_lexer": "ipython3",
   "version": "3.12.4"
  }
 },
 "nbformat": 4,
 "nbformat_minor": 4
}

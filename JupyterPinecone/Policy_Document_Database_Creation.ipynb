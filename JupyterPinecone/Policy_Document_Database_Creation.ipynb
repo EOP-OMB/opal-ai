{
 "cells": [
  {
   "cell_type": "markdown",
   "metadata": {},
   "source": [
    "# Import required packages\n"
   ]
  },
  {
   "cell_type": "code",
   "execution_count": 1,
   "metadata": {},
   "outputs": [],
   "source": [
    "import sys\n",
    "import os\n",
    "import openai\n",
    "import pinecone\n",
    "import fitz\n",
    "from pinecone import Pinecone, ServerlessSpec"
   ]
  },
  {
   "cell_type": "markdown",
   "metadata": {},
   "source": [
    "# Set API Keys\n"
   ]
  },
  {
   "cell_type": "code",
   "execution_count": 2,
   "metadata": {},
   "outputs": [],
   "source": [
    "openai.api_key = os.getenv(\"OPENAI_API_KEY\")\n",
    "pinecone_api_key = os.getenv(\"PINECONE_API_KEY\")\n",
    "pinecone = Pinecone(api_key=pinecone_api_key)\n",
    "# print(pinecone_api_key)\n",
    "# print(openai.api_key)"
   ]
  },
  {
   "cell_type": "code",
   "execution_count": 7,
   "metadata": {},
   "outputs": [],
   "source": [
    "repo_path = '../resources/EPA_Simple_English/'"
   ]
  },
  {
   "cell_type": "markdown",
   "metadata": {},
   "source": [
    "# Function to Segment Policy Documents\n"
   ]
  },
  {
   "cell_type": "code",
   "execution_count": null,
   "metadata": {},
   "outputs": [],
   "source": [
    "def split_document_into_segments(doc_text):\n",
    "    prompt = (\n",
    "        \"Identify and split the following document into logical sections and subsections. \"\n",
    "        \"Provide each section or subsection in the form of text segments, and be sure to \"\n",
    "        \"mark where each section begins and ends:\\n\\n\"\n",
    "        f\"{doc_text}\\n\\n\"\n",
    "        \"Return the document split logically into segments based on its content.\"\n",
    "    )\n",
    "    \n",
    "    # Call the OpenAI API to analyze and split the document\n",
    "    response = openai.chat.completions.create(\n",
    "        model=\"gpt-4o-mini\",  # Replace with the correct model name\n",
    "        messages=[{\"role\": \"system\", \"content\": \"You are an expert document segmenter.\"},\n",
    "                  {\"role\": \"user\", \"content\": prompt}],\n",
    "        max_tokens=4000,  # Adjust as necessary based on document length\n",
    "        temperature=0  # More deterministic splitting\n",
    "    )\n",
    "    \n",
    "    # Extract the response from the LLM\n",
    "    segmented_text = response.choices[0].message.content\n",
    "\n",
    "    # Split the response by sections based on markers or logical breaks (assumed returned by GPT)\n",
    "    segments = segmented_text.split(\"\\n\\n---\\n\\n\")\n",
    "    \n",
    "    # Print each segment with a clear label for debugging/verification\n",
    "    #for i, segment in enumerate(segments, 1):\n",
    "     #   print(f\"Segment {i}:\\n{'-' * 20}\\n{segment}\\n{'-' * 20}\\n\")\n",
    "    \n",
    "    return segments"
   ]
  },
  {
   "cell_type": "code",
   "execution_count": null,
   "metadata": {},
   "outputs": [],
   "source": [
    "segments = split_document_into_segments(doc_text) # for spot testing the above function"
   ]
  },
  {
   "cell_type": "markdown",
   "metadata": {},
   "source": [
    "# Function to Create Embeddings for each Segment"
   ]
  },
  {
   "cell_type": "code",
   "execution_count": null,
   "metadata": {},
   "outputs": [],
   "source": [
    "def generate_embeddings(segments, embed_model=\"text-embedding-ada-002\"):\n",
    "    embeddings = []  # Initialize an empty list to store the embeddings\n",
    "    client = openai.OpenAI()\n",
    "    # Loop through each segment, embed it, and store the result in the embeddings list\n",
    "    for segment in segments:\n",
    "        response = client.embeddings.create(input=segment, model=embed_model)\n",
    "        embeddings.append(response.data[0].embedding)  # Extract the actual embedding\n",
    "\n",
    "    return embeddings"
   ]
  },
  {
   "cell_type": "code",
   "execution_count": null,
   "metadata": {},
   "outputs": [],
   "source": [
    "embeddings = generate_embeddings(segments) # for spot testing the above function"
   ]
  },
  {
   "cell_type": "markdown",
   "metadata": {},
   "source": [
    "# Function to Index Embedded Segments"
   ]
  },
  {
   "cell_type": "code",
   "execution_count": null,
   "metadata": {},
   "outputs": [],
   "source": [
    "# connect to index\n",
    "def get_Index(index_name, embedding_length):\n",
    "    if index_name not in pinecone.list_indexes().names():#([index['name'] for index in pinecone.list_indexes()]):\n",
    "        pinecone.create_index(\n",
    "                    index_name,\n",
    "                    dimension=embedding_length,\n",
    "                    metric='cosine',\n",
    "                    spec=ServerlessSpec(cloud='aws', region='us-east-1')\n",
    "            )\n",
    "    index = pinecone.Index(index_name)\n",
    "\n",
    "    return index"
   ]
  },
  {
   "cell_type": "markdown",
   "metadata": {},
   "source": [
    "# Create Policy Document Database"
   ]
  },
  {
   "cell_type": "code",
   "execution_count": null,
   "metadata": {},
   "outputs": [],
   "source": [
    "# Here we specify the name of the pinecone index we are connecting to\n",
    "index_name = \"policy-doc-database-pe\""
   ]
  },
  {
   "cell_type": "code",
   "execution_count": null,
   "metadata": {},
   "outputs": [],
   "source": [
    "# Loop through repo and search for all .pdf or .txt files\n",
    "for filename in os.listdir(repo_path):\n",
    "    file_path = os.path.join(repo_path, filename)\n",
    "    if filename.endswith(\".pdf\"): # Open .pdf and extract its text\n",
    "        policy_text = \"\\n\".join([page.get_text() for page in fitz.open(file_path)])\n",
    "\n",
    "    elif filename.endswith(\".txt\"): # Open .txt and extract its txt\n",
    "        with open(file_path, 'r', encoding='utf-8') as file:\n",
    "            policy_text = file.read()\n",
    "    else: # ignore non .pdf or .txt files and continue loop\n",
    "        continue\n",
    "        \n",
    "    # Segment the document text, then embed the segments, and generate an Index (or connect to an existing Index)\n",
    "    segments = split_document_into_segments(policy_text)\n",
    "    embeddings = generate_embeddings(segments)\n",
    "    index = get_Index(index_name, embedding_length = len(embeddings[0]))\n",
    "    \n",
    "    # Add the embeddings to the index, including document title (as file_path)\n",
    "    if (len(segments) > 0):\n",
    "        # Object is of the form (id, vector, meta_data)\n",
    "        to_upsert = [(file_path+str(i), embeddings[i],{'document':file_path, 'text':segments[i]}) \n",
    "                     for i in range(len(segments)) ]\n",
    "        index.upsert(vectors=to_upsert)"
   ]
  },
  {
   "cell_type": "markdown",
   "metadata": {},
   "source": [
    "# View and Test Index"
   ]
  },
  {
   "cell_type": "code",
   "execution_count": 4,
   "metadata": {},
   "outputs": [
    {
     "data": {
      "text/plain": [
       "{'dimension': 1536,\n",
       " 'index_fullness': 0.0,\n",
       " 'namespaces': {'': {'vector_count': 145}},\n",
       " 'total_vector_count': 145}"
      ]
     },
     "execution_count": 4,
     "metadata": {},
     "output_type": "execute_result"
    }
   ],
   "source": [
    "# Here we specify the name of the pinecone index we are connecting to\n",
    "index_name = \"policy-doc-database-pe\"\n",
    "index = pinecone.Index(index_name)\n",
    "# view index stats \n",
    "index_stats = index.describe_index_stats()\n",
    "index_stats"
   ]
  },
  {
   "cell_type": "code",
   "execution_count": 6,
   "metadata": {},
   "outputs": [],
   "source": [
    "import textwrap\n",
    "\n",
    "embed_model=\"text-embedding-ada-002\"\n",
    "\n",
    "# Let's try a to search our index!\n",
    "query = textwrap.dedent(\"\"\"\n",
    "CA-5 PLAN OF ACTION AND MILESTONES Control: \n",
    "    a. Develop a plan of action and milestones for the system to document the planned remediation \n",
    "       actions of the organization to correct weaknesses or deficiencies noted during the assessment \n",
    "       of the controls and to reduce or eliminate known vulnerabilities in the system; and \n",
    "    b. Update existing plan of action and milestones [Assignment: organization-defined frequency] \n",
    "       based on the findings from control assessments, independent audits or reviews, and continuous\n",
    "       monitoring activities.\n",
    "\"\"\")\n",
    "qe = openai.embeddings.create(input=query, model=embed_model)\n",
    "res = index.query(vector=qe.data[0].embedding, top_k=4, include_metadata=True)"
   ]
  },
  {
   "cell_type": "code",
   "execution_count": 7,
   "metadata": {},
   "outputs": [
    {
     "data": {
      "text/plain": [
       "{'matches': [{'id': '../resources/EPA_Simple_English/SimpleEinglish_information_security_assessment_authorization_and_monitoring_procedure.txt7',\n",
       "              'metadata': {'document': '../resources/EPA_Simple_English/SimpleEinglish_information_security_assessment_authorization_and_monitoring_procedure.txt',\n",
       "                           'text': '### 6. PROCEDURE\\n'\n",
       "                                   'The Senior Information Officials (SIOs), '\n",
       "                                   'Information Security Officers (ISOs), and '\n",
       "                                   'EPA System Owners (SOs), or their '\n",
       "                                   'representatives, along with Service '\n",
       "                                   'Managers (SMs) for systems run on behalf '\n",
       "                                   'of the EPA, must follow these procedures. '\n",
       "                                   'They are responsible for implementing '\n",
       "                                   'these controls and developing a plan with '\n",
       "                                   'timelines for doing so. Everyone using EPA '\n",
       "                                   'information and systems should know about '\n",
       "                                   'and follow these procedures.\\n'\n",
       "                                   '\\n'\n",
       "                                   'Here’s a breakdown of what needs to be '\n",
       "                                   'done:\\n'\n",
       "                                   '\\n'\n",
       "                                   '#### Control Assessments\\n'\n",
       "                                   'Every year, or after a significant '\n",
       "                                   'change:\\n'\n",
       "                                   '1. Choose assessors for the assessment.\\n'\n",
       "                                   '2. Create a plan for the assessment, '\n",
       "                                   'detailing controls, procedures, '\n",
       "                                   'environment, and team roles.\\n'\n",
       "                                   '3. Get the plan approved by the '\n",
       "                                   'authorizing official before starting.\\n'\n",
       "                                   \"4. Check the system's controls to ensure \"\n",
       "                                   'they work correctly and meet required '\n",
       "                                   'security and privacy standards.\\n'\n",
       "                                   '5. Write a report on the assessment '\n",
       "                                   'results.\\n'\n",
       "                                   '6. Share the results with the ISO, '\n",
       "                                   'Information System Security Officer '\n",
       "                                   '(ISSO), and the Office of Information '\n",
       "                                   'Security and Privacy (OISP).\\n'\n",
       "                                   '\\n'\n",
       "                                   'For moderate and high systems, assessments '\n",
       "                                   'need independent assessors. High systems '\n",
       "                                   'should also have special tests like '\n",
       "                                   'penetration testing, vulnerability '\n",
       "                                   'scanning, and malicious user testing.\\n'\n",
       "                                   '\\n'\n",
       "                                   '#### Information Exchange\\n'\n",
       "                                   'All systems:\\n'\n",
       "                                   '1. Approve and manage how information is '\n",
       "                                   'exchanged between systems.\\n'\n",
       "                                   '2. Document the interface characteristics, '\n",
       "                                   'security and privacy requirements, and '\n",
       "                                   'responsibilities.\\n'\n",
       "                                   '3. Review and update agreements every '\n",
       "                                   'three years or after significant changes.\\n'\n",
       "                                   '\\n'\n",
       "                                   'High systems need to verify authorized '\n",
       "                                   'users before data transfer.\\n'\n",
       "                                   '\\n'\n",
       "                                   '#### Plan of Action and Milestones\\n'\n",
       "                                   '1. Create a remediation plan for fixing '\n",
       "                                   'weaknesses found during assessments.\\n'\n",
       "                                   '2. Update the plan monthly based on '\n",
       "                                   'assessment findings.\\n'\n",
       "                                   '\\n'\n",
       "                                   '#### Authorization\\n'\n",
       "                                   '1. Assign a senior official as the '\n",
       "                                   'authorizing official for the system and '\n",
       "                                   'for common controls.\\n'\n",
       "                                   '2. Make sure the official approves the '\n",
       "                                   'system and common controls before use.\\n'\n",
       "                                   '3. Update authorizations every three years '\n",
       "                                   'or after significant changes.\\n'\n",
       "                                   '\\n'\n",
       "                                   '#### Continuous Monitoring\\n'\n",
       "                                   '1. Develop and carry out a continuous '\n",
       "                                   'monitoring strategy including:\\n'\n",
       "                                   '   - Tracking metrics like open '\n",
       "                                   'vulnerabilities, unremediated findings, '\n",
       "                                   'and overdue actions.\\n'\n",
       "                                   '   - Monthly monitoring and annual '\n",
       "                                   'effectiveness assessments.\\n'\n",
       "                                   '   - Correlating and analyzing assessment '\n",
       "                                   'results.\\n'\n",
       "                                   '   - Responding to findings from '\n",
       "                                   'analysis.\\n'\n",
       "                                   '   - Reporting system status annually or '\n",
       "                                   'after significant changes or incidents.\\n'\n",
       "                                   '\\n'\n",
       "                                   'Moderate and high systems will need '\n",
       "                                   'independent assessors for ongoing '\n",
       "                                   'monitoring and risk monitoring as part of '\n",
       "                                   'the continuous monitoring strategy.'},\n",
       "              'score': 0.844778359,\n",
       "              'values': []},\n",
       "             {'id': '../resources/EPA_Simple_English/SimpleEinglish_information_security_configuration '\n",
       "                    'management _procedure.txt13',\n",
       "              'metadata': {'document': '../resources/EPA_Simple_English/SimpleEinglish_information_security_configuration '\n",
       "                                       'management _procedure.txt',\n",
       "                           'text': '#### Configuration Management Plan\\n'\n",
       "                                   '1. **Develop a Plan**: Create a '\n",
       "                                   'configuration management plan outlining '\n",
       "                                   'roles, responsibilities, and processes.\\n'\n",
       "                                   '2. **Review and Approval**: Ensure that '\n",
       "                                   'the plan is approved by the appropriate '\n",
       "                                   'authorities and protected from '\n",
       "                                   'unauthorized changes.'},\n",
       "              'score': 0.829938114,\n",
       "              'values': []},\n",
       "             {'id': '../resources/EPA_Simple_English/SimpleEinglish_information_security '\n",
       "                    'contingency planning _procedure.txt6',\n",
       "              'metadata': {'document': '../resources/EPA_Simple_English/SimpleEinglish_information_security '\n",
       "                                       'contingency planning _procedure.txt',\n",
       "                           'text': '### The Procedure\\n'\n",
       "                                   '\\n'\n",
       "                                   'Different roles and people at EPA, like '\n",
       "                                   'the SIOs, ISOs, SOs, and SMs, are '\n",
       "                                   'responsible for these tasks. Here’s a '\n",
       "                                   'step-by-step guide:\\n'\n",
       "                                   '\\n'\n",
       "                                   '1. **Contingency Plan**: Develop a plan '\n",
       "                                   'that:\\n'\n",
       "                                   '   - Lists essential functions and needs.\\n'\n",
       "                                   '   - Provides steps for recovery and '\n",
       "                                   'restoration.\\n'\n",
       "                                   '   - Assigns roles and contact '\n",
       "                                   'information.\\n'\n",
       "                                   '   - Ensures business functions run '\n",
       "                                   'despite disruptions.\\n'\n",
       "                                   '   - Plans full system restoration.\\n'\n",
       "                                   '   - Shares information.\\n'\n",
       "                                   '   - Gets approval from SO and ISO.\\n'\n",
       "                                   '\\n'\n",
       "                                   '2. **Coordination and Capacity '\n",
       "                                   'Planning**: \\n'\n",
       "                                   '   - For higher security systems, '\n",
       "                                   'coordinate with other plans and ensure '\n",
       "                                   'necessary resources.\\n'\n",
       "                                   '\\n'\n",
       "                                   '3. **Training and Testing**:\\n'\n",
       "                                   '   - Train all users on the plan within 30 '\n",
       "                                   'days of starting a role and annually.\\n'\n",
       "                                   '   - Test the plan before it goes live and '\n",
       "                                   'annually through different exercises.\\n'\n",
       "                                   '\\n'\n",
       "                                   '4. **Alternate Sites**:\\n'\n",
       "                                   '   - Establish secondary storage and '\n",
       "                                   'processing sites with the same controls as '\n",
       "                                   'the main sites.\\n'\n",
       "                                   '   - Separate these sites from the primary '\n",
       "                                   'ones to avoid shared threats.\\n'\n",
       "                                   '\\n'\n",
       "                                   '5. **Telecommunications**:\\n'\n",
       "                                   '   - Set up alternate telecom services '\n",
       "                                   'with priority service agreements.\\n'\n",
       "                                   '   - Ensure there are no single points of '\n",
       "                                   'failure.\\n'\n",
       "                                   '\\n'\n",
       "                                   '6. **Backup and Recovery**:\\n'\n",
       "                                   '   - Regularly back up both user-level and '\n",
       "                                   'system-level information weekly.\\n'\n",
       "                                   '   - Secure backups against unauthorized '\n",
       "                                   'access.\\n'\n",
       "                                   '   - Test backups quarterly for '\n",
       "                                   'reliability.\\n'\n",
       "                                   '   - Plan for system recovery to a known '\n",
       "                                   'state after disruption.'},\n",
       "              'score': 0.826048136,\n",
       "              'values': []},\n",
       "             {'id': '../resources/EPA_Simple_English/SimpleEinglish_information_security_configuration '\n",
       "                    'management _procedure.txt6',\n",
       "              'metadata': {'document': '../resources/EPA_Simple_English/SimpleEinglish_information_security_configuration '\n",
       "                                       'management _procedure.txt',\n",
       "                           'text': '### Procedure\\n'\n",
       "                                   'EPA officials must implement controls as '\n",
       "                                   'specified in this document and develop a '\n",
       "                                   'plan with timelines for their system(s). '\n",
       "                                   'EPA employees, contractors, and users '\n",
       "                                   'should follow the directions provided by '\n",
       "                                   'SIOs, ISOs, and SOs.\\n'\n",
       "                                   '\\n'\n",
       "                                   '#### Baseline Configuration\\n'\n",
       "                                   '1. **Develop and Maintain Baseline '\n",
       "                                   'Configuration**: Keep a current baseline '\n",
       "                                   'configuration of the system, updating it '\n",
       "                                   'annually, when significant changes occur, '\n",
       "                                   'or when new components are installed or '\n",
       "                                   'upgraded.\\n'\n",
       "                                   '2. **Automation for Accuracy**: For '\n",
       "                                   'moderate and high systems, use automated '\n",
       "                                   'tools to maintain the baseline '\n",
       "                                   \"configuration's accuracy.\\n\"\n",
       "                                   '3. **Retention of Previous '\n",
       "                                   'Configurations**: Retain one previous '\n",
       "                                   'version of the baseline configuration to '\n",
       "                                   'support rollback.\\n'\n",
       "                                   '4. **Configure for High-Risk Areas**: For '\n",
       "                                   'high-risk travel locations, issue devices '\n",
       "                                   'with hardened configurations and apply '\n",
       "                                   'checks upon return, such as scanning for '\n",
       "                                   'viruses and re-imaging the device.'},\n",
       "              'score': 0.821633875,\n",
       "              'values': []}],\n",
       " 'namespace': '',\n",
       " 'usage': {'read_units': 6}}"
      ]
     },
     "execution_count": 7,
     "metadata": {},
     "output_type": "execute_result"
    }
   ],
   "source": [
    "res"
   ]
  },
  {
   "cell_type": "code",
   "execution_count": null,
   "metadata": {},
   "outputs": [],
   "source": []
  }
 ],
 "metadata": {
  "kernelspec": {
   "display_name": "Python 3 (ipykernel)",
   "language": "python",
   "name": "python3"
  },
  "language_info": {
   "codemirror_mode": {
    "name": "ipython",
    "version": 3
   },
   "file_extension": ".py",
   "mimetype": "text/x-python",
   "name": "python",
   "nbconvert_exporter": "python",
   "pygments_lexer": "ipython3",
   "version": "3.12.4"
  }
 },
 "nbformat": 4,
 "nbformat_minor": 4
}
